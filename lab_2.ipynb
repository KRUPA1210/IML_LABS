{
 "cells": [
  {
   "cell_type": "code",
   "execution_count": 1,
   "id": "3654fc6b",
   "metadata": {
    "execution": {
     "iopub.execute_input": "2023-10-29T18:52:59.841141Z",
     "iopub.status.busy": "2023-10-29T18:52:59.840429Z",
     "iopub.status.idle": "2023-10-29T18:52:59.856387Z",
     "shell.execute_reply": "2023-10-29T18:52:59.855202Z"
    },
    "papermill": {
     "duration": 0.024175,
     "end_time": "2023-10-29T18:52:59.858574",
     "exception": false,
     "start_time": "2023-10-29T18:52:59.834399",
     "status": "completed"
    },
    "tags": []
   },
   "outputs": [
    {
     "name": "stdout",
     "output_type": "stream",
     "text": [
      "[1 2 3 4 5]\n"
     ]
    }
   ],
   "source": [
    "#Name:Purohit Krupa\n",
    "#Enrollment No:216270307097\n",
    "\n",
    "'''2.1->to convert a list of numeric values into a one-dimensional NumPy \n",
    "array'''\n",
    "import numpy as np\n",
    "numeric_values = [1, 2, 3, 4, 5]\n",
    "\n",
    "# Convert the list to a one-dimensional NumPy array\n",
    "array = np.array(numeric_values)\n",
    "print(array)\n"
   ]
  },
  {
   "cell_type": "code",
   "execution_count": 2,
   "id": "f63592ae",
   "metadata": {
    "execution": {
     "iopub.execute_input": "2023-10-29T18:52:59.866769Z",
     "iopub.status.busy": "2023-10-29T18:52:59.866290Z",
     "iopub.status.idle": "2023-10-29T18:52:59.872192Z",
     "shell.execute_reply": "2023-10-29T18:52:59.871038Z"
    },
    "papermill": {
     "duration": 0.011534,
     "end_time": "2023-10-29T18:52:59.874382",
     "exception": false,
     "start_time": "2023-10-29T18:52:59.862848",
     "status": "completed"
    },
    "tags": []
   },
   "outputs": [
    {
     "name": "stdout",
     "output_type": "stream",
     "text": [
      "[[ 2  3  4]\n",
      " [ 5  6  7]\n",
      " [ 8  9 10]]\n"
     ]
    }
   ],
   "source": [
    "'''2.2-> to create a 3x3 matrix with values ranging from 2 to 10'''\n",
    "import numpy as np\n",
    "matrix = np.arange(2, 11).reshape(3, 3)\n",
    "print(matrix)"
   ]
  },
  {
   "cell_type": "code",
   "execution_count": 3,
   "id": "73504319",
   "metadata": {
    "execution": {
     "iopub.execute_input": "2023-10-29T18:52:59.880920Z",
     "iopub.status.busy": "2023-10-29T18:52:59.880621Z",
     "iopub.status.idle": "2023-10-29T18:52:59.886687Z",
     "shell.execute_reply": "2023-10-29T18:52:59.885686Z"
    },
    "papermill": {
     "duration": 0.012152,
     "end_time": "2023-10-29T18:52:59.889147",
     "exception": false,
     "start_time": "2023-10-29T18:52:59.876995",
     "status": "completed"
    },
    "tags": []
   },
   "outputs": [
    {
     "name": "stdout",
     "output_type": "stream",
     "text": [
      "Array: [1 2 3]\n",
      "Array after Appending values [1 2 3 4 5 6]\n"
     ]
    }
   ],
   "source": [
    "'''2.3->to append values at the end of an array\n",
    "'''\n",
    "import numpy as np\n",
    "arr = np.array([1, 2, 3])\n",
    "print(\"Array:\",arr)\n",
    "# Append values to the end of the array\n",
    "arr = np.append(arr,[4, 5, 6])\n",
    "print(\"Array after Appending values\",arr)\n"
   ]
  },
  {
   "cell_type": "code",
   "execution_count": 4,
   "id": "b357fade",
   "metadata": {
    "execution": {
     "iopub.execute_input": "2023-10-29T18:52:59.895264Z",
     "iopub.status.busy": "2023-10-29T18:52:59.895001Z",
     "iopub.status.idle": "2023-10-29T18:52:59.901967Z",
     "shell.execute_reply": "2023-10-29T18:52:59.900843Z"
    },
    "papermill": {
     "duration": 0.012523,
     "end_time": "2023-10-29T18:52:59.904072",
     "exception": false,
     "start_time": "2023-10-29T18:52:59.891549",
     "status": "completed"
    },
    "tags": []
   },
   "outputs": [
    {
     "name": "stdout",
     "output_type": "stream",
     "text": [
      "original array:\n",
      " [[1 2]\n",
      " [3 4]\n",
      " [5 6]]\n",
      "the new array:\n",
      " [[1 2 3]\n",
      " [4 5 6]]\n"
     ]
    }
   ],
   "source": [
    "'''2.4->to create another shape from an array without changing its data(3*2 \n",
    "to 2*3)'''\n",
    "import numpy as np\n",
    "a = np.array([[1, 2], [3, 4], [5, 6]])\n",
    "# Create a 2x3 array from the same data\n",
    "b = np.reshape(a, (2, 3))\n",
    "print(\"original array:\\n\",a)\n",
    "print(\"the new array:\\n\",b)\n"
   ]
  }
 ],
 "metadata": {
  "kernelspec": {
   "display_name": "Python 3",
   "language": "python",
   "name": "python3"
  },
  "language_info": {
   "codemirror_mode": {
    "name": "ipython",
    "version": 3
   },
   "file_extension": ".py",
   "mimetype": "text/x-python",
   "name": "python",
   "nbconvert_exporter": "python",
   "pygments_lexer": "ipython3",
   "version": "3.10.12"
  },
  "papermill": {
   "default_parameters": {},
   "duration": 3.773193,
   "end_time": "2023-10-29T18:53:00.225628",
   "environment_variables": {},
   "exception": null,
   "input_path": "__notebook__.ipynb",
   "output_path": "__notebook__.ipynb",
   "parameters": {},
   "start_time": "2023-10-29T18:52:56.452435",
   "version": "2.4.0"
  }
 },
 "nbformat": 4,
 "nbformat_minor": 5
}
