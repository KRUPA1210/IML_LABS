{
 "cells": [
  {
   "cell_type": "code",
   "execution_count": 1,
   "id": "32535011",
   "metadata": {
    "execution": {
     "iopub.execute_input": "2023-10-29T18:50:40.752268Z",
     "iopub.status.busy": "2023-10-29T18:50:40.751883Z",
     "iopub.status.idle": "2023-10-29T18:50:40.767520Z",
     "shell.execute_reply": "2023-10-29T18:50:40.766201Z"
    },
    "papermill": {
     "duration": 0.023131,
     "end_time": "2023-10-29T18:50:40.770564",
     "exception": false,
     "start_time": "2023-10-29T18:50:40.747433",
     "status": "completed"
    },
    "tags": []
   },
   "outputs": [
    {
     "name": "stdout",
     "output_type": "stream",
     "text": [
      "[1 2 3 4 5]\n"
     ]
    }
   ],
   "source": [
    "#Name:Purohit Krupa\n",
    "#Enrollment No:216270307097\n",
    "\n",
    "'''2.1->to convert a list of numeric values into a one-dimensional NumPy \n",
    "array'''\n",
    "import numpy as np\n",
    "numeric_values = [1, 2, 3, 4, 5]\n",
    "\n",
    "# Convert the list to a one-dimensional NumPy array\n",
    "array = np.array(numeric_values)\n",
    "print(array)\n"
   ]
  },
  {
   "cell_type": "code",
   "execution_count": 2,
   "id": "5f69f492",
   "metadata": {
    "execution": {
     "iopub.execute_input": "2023-10-29T18:50:40.779900Z",
     "iopub.status.busy": "2023-10-29T18:50:40.779260Z",
     "iopub.status.idle": "2023-10-29T18:50:40.785812Z",
     "shell.execute_reply": "2023-10-29T18:50:40.784661Z"
    },
    "papermill": {
     "duration": 0.012928,
     "end_time": "2023-10-29T18:50:40.788161",
     "exception": false,
     "start_time": "2023-10-29T18:50:40.775233",
     "status": "completed"
    },
    "tags": []
   },
   "outputs": [
    {
     "name": "stdout",
     "output_type": "stream",
     "text": [
      "[[ 2  3  4]\n",
      " [ 5  6  7]\n",
      " [ 8  9 10]]\n"
     ]
    }
   ],
   "source": [
    "'''2.2-> to create a 3x3 matrix with values ranging from 2 to 10'''\n",
    "import numpy as np\n",
    "matrix = np.arange(2, 11).reshape(3, 3)\n",
    "print(matrix)"
   ]
  },
  {
   "cell_type": "code",
   "execution_count": 3,
   "id": "9a59955c",
   "metadata": {
    "execution": {
     "iopub.execute_input": "2023-10-29T18:50:40.795228Z",
     "iopub.status.busy": "2023-10-29T18:50:40.794827Z",
     "iopub.status.idle": "2023-10-29T18:50:40.802305Z",
     "shell.execute_reply": "2023-10-29T18:50:40.801016Z"
    },
    "papermill": {
     "duration": 0.014107,
     "end_time": "2023-10-29T18:50:40.805064",
     "exception": false,
     "start_time": "2023-10-29T18:50:40.790957",
     "status": "completed"
    },
    "tags": []
   },
   "outputs": [
    {
     "name": "stdout",
     "output_type": "stream",
     "text": [
      "Array: [1 2 3]\n",
      "Array after Appending values [1 2 3 4 5 6]\n"
     ]
    }
   ],
   "source": [
    "'''2.3->to append values at the end of an array\n",
    "'''\n",
    "import numpy as np\n",
    "arr = np.array([1, 2, 3])\n",
    "print(\"Array:\",arr)\n",
    "# Append values to the end of the array\n",
    "arr = np.append(arr,[4, 5, 6])\n",
    "print(\"Array after Appending values\",arr)\n"
   ]
  },
  {
   "cell_type": "code",
   "execution_count": 4,
   "id": "b7b34270",
   "metadata": {
    "execution": {
     "iopub.execute_input": "2023-10-29T18:50:40.812459Z",
     "iopub.status.busy": "2023-10-29T18:50:40.811864Z",
     "iopub.status.idle": "2023-10-29T18:50:40.818396Z",
     "shell.execute_reply": "2023-10-29T18:50:40.817654Z"
    },
    "papermill": {
     "duration": 0.013377,
     "end_time": "2023-10-29T18:50:40.821272",
     "exception": false,
     "start_time": "2023-10-29T18:50:40.807895",
     "status": "completed"
    },
    "tags": []
   },
   "outputs": [
    {
     "name": "stdout",
     "output_type": "stream",
     "text": [
      "original array:\n",
      " [[1 2]\n",
      " [3 4]\n",
      " [5 6]]\n",
      "the new array:\n",
      " [[1 2 3]\n",
      " [4 5 6]]\n"
     ]
    }
   ],
   "source": [
    "'''2.4->to create another shape from an array without changing its data(3*2 \n",
    "to 2*3)'''\n",
    "import numpy as np\n",
    "a = np.array([[1, 2], [3, 4], [5, 6]])\n",
    "# Create a 2x3 array from the same data\n",
    "b = np.reshape(a, (2, 3))\n",
    "print(\"original array:\\n\",a)\n",
    "print(\"the new array:\\n\",b)\n"
   ]
  }
 ],
 "metadata": {
  "kernelspec": {
   "display_name": "Python 3",
   "language": "python",
   "name": "python3"
  },
  "language_info": {
   "codemirror_mode": {
    "name": "ipython",
    "version": 3
   },
   "file_extension": ".py",
   "mimetype": "text/x-python",
   "name": "python",
   "nbconvert_exporter": "python",
   "pygments_lexer": "ipython3",
   "version": "3.10.12"
  },
  "papermill": {
   "default_parameters": {},
   "duration": 4.068239,
   "end_time": "2023-10-29T18:50:41.143317",
   "environment_variables": {},
   "exception": null,
   "input_path": "__notebook__.ipynb",
   "output_path": "__notebook__.ipynb",
   "parameters": {},
   "start_time": "2023-10-29T18:50:37.075078",
   "version": "2.4.0"
  }
 },
 "nbformat": 4,
 "nbformat_minor": 5
}
