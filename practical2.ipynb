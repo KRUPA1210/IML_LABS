{
 "cells": [
  {
   "cell_type": "code",
   "execution_count": 1,
   "id": "4bc8b200",
   "metadata": {
    "execution": {
     "iopub.execute_input": "2023-10-29T18:27:16.527076Z",
     "iopub.status.busy": "2023-10-29T18:27:16.526390Z",
     "iopub.status.idle": "2023-10-29T18:27:16.541500Z",
     "shell.execute_reply": "2023-10-29T18:27:16.540437Z"
    },
    "papermill": {
     "duration": 0.022828,
     "end_time": "2023-10-29T18:27:16.544085",
     "exception": false,
     "start_time": "2023-10-29T18:27:16.521257",
     "status": "completed"
    },
    "tags": []
   },
   "outputs": [
    {
     "name": "stdout",
     "output_type": "stream",
     "text": [
      "[1 2 3 4 5]\n"
     ]
    }
   ],
   "source": [
    "#Name:Purohit Krupa\n",
    "#Enrollment No:216270307097\n",
    "\n",
    "'''2.1->to convert a list of numeric values into a one-dimensional NumPy \n",
    "array'''\n",
    "import numpy as np\n",
    "numeric_values = [1, 2, 3, 4, 5]\n",
    "\n",
    "# Convert the list to a one-dimensional NumPy array\n",
    "array = np.array(numeric_values)\n",
    "print(array)\n"
   ]
  },
  {
   "cell_type": "code",
   "execution_count": 2,
   "id": "daedc04f",
   "metadata": {
    "execution": {
     "iopub.execute_input": "2023-10-29T18:27:16.553394Z",
     "iopub.status.busy": "2023-10-29T18:27:16.552723Z",
     "iopub.status.idle": "2023-10-29T18:27:16.559500Z",
     "shell.execute_reply": "2023-10-29T18:27:16.558236Z"
    },
    "papermill": {
     "duration": 0.013224,
     "end_time": "2023-10-29T18:27:16.561885",
     "exception": false,
     "start_time": "2023-10-29T18:27:16.548661",
     "status": "completed"
    },
    "tags": []
   },
   "outputs": [
    {
     "name": "stdout",
     "output_type": "stream",
     "text": [
      "[[ 2  3  4]\n",
      " [ 5  6  7]\n",
      " [ 8  9 10]]\n"
     ]
    }
   ],
   "source": [
    "'''2.2-> to create a 3x3 matrix with values ranging from 2 to 10'''\n",
    "import numpy as np\n",
    "matrix = np.arange(2, 11).reshape(3, 3)\n",
    "print(matrix)"
   ]
  },
  {
   "cell_type": "code",
   "execution_count": 3,
   "id": "fb6447b1",
   "metadata": {
    "execution": {
     "iopub.execute_input": "2023-10-29T18:27:16.569152Z",
     "iopub.status.busy": "2023-10-29T18:27:16.568544Z",
     "iopub.status.idle": "2023-10-29T18:27:16.576406Z",
     "shell.execute_reply": "2023-10-29T18:27:16.575257Z"
    },
    "papermill": {
     "duration": 0.014166,
     "end_time": "2023-10-29T18:27:16.578825",
     "exception": false,
     "start_time": "2023-10-29T18:27:16.564659",
     "status": "completed"
    },
    "tags": []
   },
   "outputs": [
    {
     "name": "stdout",
     "output_type": "stream",
     "text": [
      "Array: [1 2 3]\n",
      "Array after Appending values [1 2 3 4 5 6]\n"
     ]
    }
   ],
   "source": [
    "'''2.3->to append values at the end of an array\n",
    "'''\n",
    "import numpy as np\n",
    "arr = np.array([1, 2, 3])\n",
    "print(\"Array:\",arr)\n",
    "# Append values to the end of the array\n",
    "arr = np.append(arr,[4, 5, 6])\n",
    "print(\"Array after Appending values\",arr)\n"
   ]
  },
  {
   "cell_type": "code",
   "execution_count": 4,
   "id": "26855885",
   "metadata": {
    "execution": {
     "iopub.execute_input": "2023-10-29T18:27:16.586016Z",
     "iopub.status.busy": "2023-10-29T18:27:16.585636Z",
     "iopub.status.idle": "2023-10-29T18:27:16.593046Z",
     "shell.execute_reply": "2023-10-29T18:27:16.591869Z"
    },
    "papermill": {
     "duration": 0.013935,
     "end_time": "2023-10-29T18:27:16.595618",
     "exception": false,
     "start_time": "2023-10-29T18:27:16.581683",
     "status": "completed"
    },
    "tags": []
   },
   "outputs": [
    {
     "name": "stdout",
     "output_type": "stream",
     "text": [
      "original array:\n",
      " [[1 2]\n",
      " [3 4]\n",
      " [5 6]]\n",
      "the new array:\n",
      " [[1 2 3]\n",
      " [4 5 6]]\n"
     ]
    }
   ],
   "source": [
    "'''2.4->to create another shape from an array without changing its data(3*2 \n",
    "to 2*3)'''\n",
    "import numpy as np\n",
    "a = np.array([[1, 2], [3, 4], [5, 6]])\n",
    "# Create a 2x3 array from the same data\n",
    "b = np.reshape(a, (2, 3))\n",
    "print(\"original array:\\n\",a)\n",
    "print(\"the new array:\\n\",b)\n"
   ]
  }
 ],
 "metadata": {
  "kernelspec": {
   "display_name": "Python 3",
   "language": "python",
   "name": "python3"
  },
  "language_info": {
   "codemirror_mode": {
    "name": "ipython",
    "version": 3
   },
   "file_extension": ".py",
   "mimetype": "text/x-python",
   "name": "python",
   "nbconvert_exporter": "python",
   "pygments_lexer": "ipython3",
   "version": "3.10.12"
  },
  "papermill": {
   "default_parameters": {},
   "duration": 4.110533,
   "end_time": "2023-10-29T18:27:17.019079",
   "environment_variables": {},
   "exception": null,
   "input_path": "__notebook__.ipynb",
   "output_path": "__notebook__.ipynb",
   "parameters": {},
   "start_time": "2023-10-29T18:27:12.908546",
   "version": "2.4.0"
  }
 },
 "nbformat": 4,
 "nbformat_minor": 5
}
