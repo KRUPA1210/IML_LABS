{
 "cells": [
  {
   "cell_type": "code",
   "execution_count": 1,
   "id": "4a952665",
   "metadata": {
    "_cell_guid": "b1076dfc-b9ad-4769-8c92-a6c4dae69d19",
    "_uuid": "8f2839f25d086af736a60e9eeb907d3b93b6e0e5",
    "execution": {
     "iopub.execute_input": "2023-10-29T19:55:36.372505Z",
     "iopub.status.busy": "2023-10-29T19:55:36.371449Z",
     "iopub.status.idle": "2023-10-29T19:55:36.795784Z",
     "shell.execute_reply": "2023-10-29T19:55:36.795046Z"
    },
    "papermill": {
     "duration": 0.431734,
     "end_time": "2023-10-29T19:55:36.798162",
     "exception": false,
     "start_time": "2023-10-29T19:55:36.366428",
     "status": "completed"
    },
    "tags": []
   },
   "outputs": [
    {
     "name": "stdout",
     "output_type": "stream",
     "text": [
      "      Name  enroll\n",
      "0    KRUPA       1\n",
      "1  KRISHNA       2\n",
      "2    HARMY       3\n"
     ]
    }
   ],
   "source": [
    "#Name:Purohit Krupa\n",
    "#Enrollment No:216270307097\n",
    "\n",
    "'''7.1->to create a dataframe from a dictionary and display it'''\n",
    "import pandas as pd\n",
    "clg = {\n",
    "'Name' : ['KRUPA', 'KRISHNA', 'HARMY'],\n",
    "'enroll' : [1,2,3] }\n",
    "# creating a Dataframe object \n",
    "df = pd.DataFrame(clg)\n",
    "print(df)"
   ]
  },
  {
   "cell_type": "code",
   "execution_count": 2,
   "id": "4bccb11b",
   "metadata": {
    "execution": {
     "iopub.execute_input": "2023-10-29T19:55:36.807015Z",
     "iopub.status.busy": "2023-10-29T19:55:36.806118Z",
     "iopub.status.idle": "2023-10-29T19:55:36.821555Z",
     "shell.execute_reply": "2023-10-29T19:55:36.820774Z"
    },
    "papermill": {
     "duration": 0.021296,
     "end_time": "2023-10-29T19:55:36.823859",
     "exception": false,
     "start_time": "2023-10-29T19:55:36.802563",
     "status": "completed"
    },
    "tags": []
   },
   "outputs": [
    {
     "name": "stdout",
     "output_type": "stream",
     "text": [
      "      Name  enroll\n",
      "2    HARMY       3\n",
      "1  KRISHNA       2\n",
      "0    KRUPA       1\n"
     ]
    }
   ],
   "source": [
    "'''7.2->to sort the DataFrame first by 'name' in ascending order'''\n",
    "\n",
    "import pandas as pd\n",
    "\n",
    "sort=df.sort_values(by='Name',ascending=True)\n",
    "print(sort)"
   ]
  },
  {
   "cell_type": "code",
   "execution_count": 3,
   "id": "b4029dca",
   "metadata": {
    "execution": {
     "iopub.execute_input": "2023-10-29T19:55:36.830758Z",
     "iopub.status.busy": "2023-10-29T19:55:36.830399Z",
     "iopub.status.idle": "2023-10-29T19:55:36.845254Z",
     "shell.execute_reply": "2023-10-29T19:55:36.843807Z"
    },
    "papermill": {
     "duration": 0.021781,
     "end_time": "2023-10-29T19:55:36.848362",
     "exception": false,
     "start_time": "2023-10-29T19:55:36.826581",
     "status": "completed"
    },
    "tags": []
   },
   "outputs": [
    {
     "name": "stdout",
     "output_type": "stream",
     "text": [
      "      Name\n",
      "0    KRUPA\n",
      "1  KRISHNA\n",
      "2    HARMY\n"
     ]
    }
   ],
   "source": [
    "'''7.3-> to delete the one specific column from the DataFrame'''\n",
    "\n",
    "import pandas as pd\n",
    "print(df.drop(['enroll'], axis=1))"
   ]
  },
  {
   "cell_type": "code",
   "execution_count": 4,
   "id": "40899213",
   "metadata": {
    "execution": {
     "iopub.execute_input": "2023-10-29T19:55:36.855680Z",
     "iopub.status.busy": "2023-10-29T19:55:36.855287Z",
     "iopub.status.idle": "2023-10-29T19:55:36.867108Z",
     "shell.execute_reply": "2023-10-29T19:55:36.866203Z"
    },
    "papermill": {
     "duration": 0.018349,
     "end_time": "2023-10-29T19:55:36.869546",
     "exception": false,
     "start_time": "2023-10-29T19:55:36.851197",
     "status": "completed"
    },
    "tags": []
   },
   "outputs": [],
   "source": [
    "'''7.4->to write a DataFrame to CSV file using tab separator'''\n",
    "\n",
    "import pandas as pd\n",
    "clg = {\n",
    "'Name' : ['KRUPA', 'KRISHNA', 'HARMY'],\n",
    "'enroll' : [1,2,3] }\n",
    "df = pd.DataFrame(clg)\n",
    "file_path = '/kaggle/working/dat.csv'\n",
    "# Write the DataFrame to a CSV file with a tab separator\n",
    "df.to_csv(file_path, sep='\\t')"
   ]
  }
 ],
 "metadata": {
  "kernelspec": {
   "display_name": "Python 3",
   "language": "python",
   "name": "python3"
  },
  "language_info": {
   "codemirror_mode": {
    "name": "ipython",
    "version": 3
   },
   "file_extension": ".py",
   "mimetype": "text/x-python",
   "name": "python",
   "nbconvert_exporter": "python",
   "pygments_lexer": "ipython3",
   "version": "3.10.12"
  },
  "papermill": {
   "default_parameters": {},
   "duration": 4.56913,
   "end_time": "2023-10-29T19:55:37.292894",
   "environment_variables": {},
   "exception": null,
   "input_path": "__notebook__.ipynb",
   "output_path": "__notebook__.ipynb",
   "parameters": {},
   "start_time": "2023-10-29T19:55:32.723764",
   "version": "2.4.0"
  }
 },
 "nbformat": 4,
 "nbformat_minor": 5
}
