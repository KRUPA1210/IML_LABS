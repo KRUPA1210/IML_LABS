{
 "cells": [
  {
   "cell_type": "markdown",
   "id": "experienced-phenomenon",
   "metadata": {
    "papermill": {
     "duration": 0.023082,
     "end_time": "2023-11-16T15:01:19.783304",
     "exception": false,
     "start_time": "2023-11-16T15:01:19.760222",
     "status": "completed"
    },
    "tags": []
   },
   "source": [
    "# Name: Purohit Krupa \n",
    "# Enrollment No: 216270307097\n",
    "# Practical 14\n",
    "# MINI PROJECT : WINE QUALITY PREDICTION"
   ]
  },
  {
   "cell_type": "code",
   "execution_count": 1,
   "id": "blond-devil",
   "metadata": {
    "execution": {
     "iopub.execute_input": "2023-11-16T15:01:19.844576Z",
     "iopub.status.busy": "2023-11-16T15:01:19.832716Z",
     "iopub.status.idle": "2023-11-16T15:01:22.180783Z",
     "shell.execute_reply": "2023-11-16T15:01:22.179439Z",
     "shell.execute_reply.started": "2023-11-16T14:51:49.972786Z"
    },
    "papermill": {
     "duration": 2.375449,
     "end_time": "2023-11-16T15:01:22.181008",
     "exception": false,
     "start_time": "2023-11-16T15:01:19.805559",
     "status": "completed"
    },
    "tags": []
   },
   "outputs": [],
   "source": [
    "import numpy as np\n",
    "import pandas as pd\n",
    "\n",
    "import seaborn as sns\n",
    "import plotly.express as px\n",
    "import matplotlib.pyplot as plt\n",
    "\n",
    "import warnings\n",
    "warnings.filterwarnings('ignore')\n",
    "\n",
    "file_path = \"your_file_path_here\"\n",
    "Balanced_df = pd.read_csv(\"/kaggle/input/red-wine-quality-cortez-et-al-2009/winequality-red.csv\")\n",
    "%matplotlib inline"
   ]
  },
  {
   "cell_type": "code",
   "execution_count": 2,
   "id": "oriented-reply",
   "metadata": {
    "execution": {
     "iopub.execute_input": "2023-11-16T15:01:22.230475Z",
     "iopub.status.busy": "2023-11-16T15:01:22.229668Z",
     "iopub.status.idle": "2023-11-16T15:01:22.240194Z",
     "shell.execute_reply": "2023-11-16T15:01:22.240764Z",
     "shell.execute_reply.started": "2023-11-16T14:51:49.992836Z"
    },
    "papermill": {
     "duration": 0.036768,
     "end_time": "2023-11-16T15:01:22.240984",
     "exception": false,
     "start_time": "2023-11-16T15:01:22.204216",
     "status": "completed"
    },
    "tags": []
   },
   "outputs": [],
   "source": [
    "df=pd.read_csv(\"/kaggle/input/red-wine-quality-cortez-et-al-2009/winequality-red.csv\")"
   ]
  },
  {
   "cell_type": "code",
   "execution_count": 3,
   "id": "juvenile-richards",
   "metadata": {
    "execution": {
     "iopub.execute_input": "2023-11-16T15:01:22.288763Z",
     "iopub.status.busy": "2023-11-16T15:01:22.287950Z",
     "iopub.status.idle": "2023-11-16T15:01:22.327741Z",
     "shell.execute_reply": "2023-11-16T15:01:22.328345Z",
     "shell.execute_reply.started": "2023-11-16T14:51:50.012823Z"
    },
    "papermill": {
     "duration": 0.065331,
     "end_time": "2023-11-16T15:01:22.328550",
     "exception": false,
     "start_time": "2023-11-16T15:01:22.263219",
     "status": "completed"
    },
    "tags": []
   },
   "outputs": [
    {
     "data": {
      "text/html": [
       "<div>\n",
       "<style scoped>\n",
       "    .dataframe tbody tr th:only-of-type {\n",
       "        vertical-align: middle;\n",
       "    }\n",
       "\n",
       "    .dataframe tbody tr th {\n",
       "        vertical-align: top;\n",
       "    }\n",
       "\n",
       "    .dataframe thead th {\n",
       "        text-align: right;\n",
       "    }\n",
       "</style>\n",
       "<table border=\"1\" class=\"dataframe\">\n",
       "  <thead>\n",
       "    <tr style=\"text-align: right;\">\n",
       "      <th></th>\n",
       "      <th>fixed acidity</th>\n",
       "      <th>volatile acidity</th>\n",
       "      <th>citric acid</th>\n",
       "      <th>residual sugar</th>\n",
       "      <th>chlorides</th>\n",
       "      <th>free sulfur dioxide</th>\n",
       "      <th>total sulfur dioxide</th>\n",
       "      <th>density</th>\n",
       "      <th>pH</th>\n",
       "      <th>sulphates</th>\n",
       "      <th>alcohol</th>\n",
       "      <th>quality</th>\n",
       "    </tr>\n",
       "  </thead>\n",
       "  <tbody>\n",
       "    <tr>\n",
       "      <th>0</th>\n",
       "      <td>7.4</td>\n",
       "      <td>0.70</td>\n",
       "      <td>0.00</td>\n",
       "      <td>1.9</td>\n",
       "      <td>0.076</td>\n",
       "      <td>11.0</td>\n",
       "      <td>34.0</td>\n",
       "      <td>0.9978</td>\n",
       "      <td>3.51</td>\n",
       "      <td>0.56</td>\n",
       "      <td>9.4</td>\n",
       "      <td>5</td>\n",
       "    </tr>\n",
       "    <tr>\n",
       "      <th>1</th>\n",
       "      <td>7.8</td>\n",
       "      <td>0.88</td>\n",
       "      <td>0.00</td>\n",
       "      <td>2.6</td>\n",
       "      <td>0.098</td>\n",
       "      <td>25.0</td>\n",
       "      <td>67.0</td>\n",
       "      <td>0.9968</td>\n",
       "      <td>3.20</td>\n",
       "      <td>0.68</td>\n",
       "      <td>9.8</td>\n",
       "      <td>5</td>\n",
       "    </tr>\n",
       "    <tr>\n",
       "      <th>2</th>\n",
       "      <td>7.8</td>\n",
       "      <td>0.76</td>\n",
       "      <td>0.04</td>\n",
       "      <td>2.3</td>\n",
       "      <td>0.092</td>\n",
       "      <td>15.0</td>\n",
       "      <td>54.0</td>\n",
       "      <td>0.9970</td>\n",
       "      <td>3.26</td>\n",
       "      <td>0.65</td>\n",
       "      <td>9.8</td>\n",
       "      <td>5</td>\n",
       "    </tr>\n",
       "    <tr>\n",
       "      <th>3</th>\n",
       "      <td>11.2</td>\n",
       "      <td>0.28</td>\n",
       "      <td>0.56</td>\n",
       "      <td>1.9</td>\n",
       "      <td>0.075</td>\n",
       "      <td>17.0</td>\n",
       "      <td>60.0</td>\n",
       "      <td>0.9980</td>\n",
       "      <td>3.16</td>\n",
       "      <td>0.58</td>\n",
       "      <td>9.8</td>\n",
       "      <td>6</td>\n",
       "    </tr>\n",
       "    <tr>\n",
       "      <th>4</th>\n",
       "      <td>7.4</td>\n",
       "      <td>0.70</td>\n",
       "      <td>0.00</td>\n",
       "      <td>1.9</td>\n",
       "      <td>0.076</td>\n",
       "      <td>11.0</td>\n",
       "      <td>34.0</td>\n",
       "      <td>0.9978</td>\n",
       "      <td>3.51</td>\n",
       "      <td>0.56</td>\n",
       "      <td>9.4</td>\n",
       "      <td>5</td>\n",
       "    </tr>\n",
       "  </tbody>\n",
       "</table>\n",
       "</div>"
      ],
      "text/plain": [
       "   fixed acidity  volatile acidity  citric acid  residual sugar  chlorides  \\\n",
       "0            7.4              0.70         0.00             1.9      0.076   \n",
       "1            7.8              0.88         0.00             2.6      0.098   \n",
       "2            7.8              0.76         0.04             2.3      0.092   \n",
       "3           11.2              0.28         0.56             1.9      0.075   \n",
       "4            7.4              0.70         0.00             1.9      0.076   \n",
       "\n",
       "   free sulfur dioxide  total sulfur dioxide  density    pH  sulphates  \\\n",
       "0                 11.0                  34.0   0.9978  3.51       0.56   \n",
       "1                 25.0                  67.0   0.9968  3.20       0.68   \n",
       "2                 15.0                  54.0   0.9970  3.26       0.65   \n",
       "3                 17.0                  60.0   0.9980  3.16       0.58   \n",
       "4                 11.0                  34.0   0.9978  3.51       0.56   \n",
       "\n",
       "   alcohol  quality  \n",
       "0      9.4        5  \n",
       "1      9.8        5  \n",
       "2      9.8        5  \n",
       "3      9.8        6  \n",
       "4      9.4        5  "
      ]
     },
     "execution_count": 3,
     "metadata": {},
     "output_type": "execute_result"
    }
   ],
   "source": [
    "df.head()"
   ]
  },
  {
   "cell_type": "code",
   "execution_count": 4,
   "id": "varied-supplier",
   "metadata": {
    "execution": {
     "iopub.execute_input": "2023-11-16T15:01:22.379692Z",
     "iopub.status.busy": "2023-11-16T15:01:22.378925Z",
     "iopub.status.idle": "2023-11-16T15:01:22.384516Z",
     "shell.execute_reply": "2023-11-16T15:01:22.385509Z",
     "shell.execute_reply.started": "2023-11-16T14:51:50.045777Z"
    },
    "papermill": {
     "duration": 0.031908,
     "end_time": "2023-11-16T15:01:22.385760",
     "exception": false,
     "start_time": "2023-11-16T15:01:22.353852",
     "status": "completed"
    },
    "tags": []
   },
   "outputs": [
    {
     "name": "stdout",
     "output_type": "stream",
     "text": [
      "Index(['fixed acidity', 'volatile acidity', 'citric acid', 'residual sugar',\n",
      "       'chlorides', 'free sulfur dioxide', 'total sulfur dioxide', 'density',\n",
      "       'pH', 'sulphates', 'alcohol', 'quality'],\n",
      "      dtype='object')\n",
      "(1599, 12)\n"
     ]
    }
   ],
   "source": [
    "print(df.columns)\n",
    "print(df.shape)"
   ]
  },
  {
   "cell_type": "code",
   "execution_count": 5,
   "id": "heavy-breach",
   "metadata": {
    "execution": {
     "iopub.execute_input": "2023-11-16T15:01:22.436248Z",
     "iopub.status.busy": "2023-11-16T15:01:22.435367Z",
     "iopub.status.idle": "2023-11-16T15:01:22.457430Z",
     "shell.execute_reply": "2023-11-16T15:01:22.456646Z",
     "shell.execute_reply.started": "2023-11-16T14:51:50.057379Z"
    },
    "papermill": {
     "duration": 0.048038,
     "end_time": "2023-11-16T15:01:22.457601",
     "exception": false,
     "start_time": "2023-11-16T15:01:22.409563",
     "status": "completed"
    },
    "tags": []
   },
   "outputs": [
    {
     "name": "stdout",
     "output_type": "stream",
     "text": [
      "<class 'pandas.core.frame.DataFrame'>\n",
      "RangeIndex: 1599 entries, 0 to 1598\n",
      "Data columns (total 12 columns):\n",
      " #   Column                Non-Null Count  Dtype  \n",
      "---  ------                --------------  -----  \n",
      " 0   fixed acidity         1599 non-null   float64\n",
      " 1   volatile acidity      1599 non-null   float64\n",
      " 2   citric acid           1599 non-null   float64\n",
      " 3   residual sugar        1599 non-null   float64\n",
      " 4   chlorides             1599 non-null   float64\n",
      " 5   free sulfur dioxide   1599 non-null   float64\n",
      " 6   total sulfur dioxide  1599 non-null   float64\n",
      " 7   density               1599 non-null   float64\n",
      " 8   pH                    1599 non-null   float64\n",
      " 9   sulphates             1599 non-null   float64\n",
      " 10  alcohol               1599 non-null   float64\n",
      " 11  quality               1599 non-null   int64  \n",
      "dtypes: float64(11), int64(1)\n",
      "memory usage: 150.0 KB\n"
     ]
    }
   ],
   "source": [
    "df.info()"
   ]
  },
  {
   "cell_type": "code",
   "execution_count": 6,
   "id": "effective-supplier",
   "metadata": {
    "execution": {
     "iopub.execute_input": "2023-11-16T15:01:22.513398Z",
     "iopub.status.busy": "2023-11-16T15:01:22.508688Z",
     "iopub.status.idle": "2023-11-16T15:01:22.571377Z",
     "shell.execute_reply": "2023-11-16T15:01:22.571928Z",
     "shell.execute_reply.started": "2023-11-16T14:51:50.080412Z"
    },
    "papermill": {
     "duration": 0.091242,
     "end_time": "2023-11-16T15:01:22.572153",
     "exception": false,
     "start_time": "2023-11-16T15:01:22.480911",
     "status": "completed"
    },
    "tags": []
   },
   "outputs": [
    {
     "data": {
      "text/html": [
       "<div>\n",
       "<style scoped>\n",
       "    .dataframe tbody tr th:only-of-type {\n",
       "        vertical-align: middle;\n",
       "    }\n",
       "\n",
       "    .dataframe tbody tr th {\n",
       "        vertical-align: top;\n",
       "    }\n",
       "\n",
       "    .dataframe thead th {\n",
       "        text-align: right;\n",
       "    }\n",
       "</style>\n",
       "<table border=\"1\" class=\"dataframe\">\n",
       "  <thead>\n",
       "    <tr style=\"text-align: right;\">\n",
       "      <th></th>\n",
       "      <th>count</th>\n",
       "      <th>mean</th>\n",
       "      <th>std</th>\n",
       "      <th>min</th>\n",
       "      <th>25%</th>\n",
       "      <th>50%</th>\n",
       "      <th>75%</th>\n",
       "      <th>max</th>\n",
       "    </tr>\n",
       "  </thead>\n",
       "  <tbody>\n",
       "    <tr>\n",
       "      <th>fixed acidity</th>\n",
       "      <td>1599.0</td>\n",
       "      <td>8.319637</td>\n",
       "      <td>1.741096</td>\n",
       "      <td>4.60000</td>\n",
       "      <td>7.1000</td>\n",
       "      <td>7.90000</td>\n",
       "      <td>9.200000</td>\n",
       "      <td>15.90000</td>\n",
       "    </tr>\n",
       "    <tr>\n",
       "      <th>volatile acidity</th>\n",
       "      <td>1599.0</td>\n",
       "      <td>0.527821</td>\n",
       "      <td>0.179060</td>\n",
       "      <td>0.12000</td>\n",
       "      <td>0.3900</td>\n",
       "      <td>0.52000</td>\n",
       "      <td>0.640000</td>\n",
       "      <td>1.58000</td>\n",
       "    </tr>\n",
       "    <tr>\n",
       "      <th>citric acid</th>\n",
       "      <td>1599.0</td>\n",
       "      <td>0.270976</td>\n",
       "      <td>0.194801</td>\n",
       "      <td>0.00000</td>\n",
       "      <td>0.0900</td>\n",
       "      <td>0.26000</td>\n",
       "      <td>0.420000</td>\n",
       "      <td>1.00000</td>\n",
       "    </tr>\n",
       "    <tr>\n",
       "      <th>residual sugar</th>\n",
       "      <td>1599.0</td>\n",
       "      <td>2.538806</td>\n",
       "      <td>1.409928</td>\n",
       "      <td>0.90000</td>\n",
       "      <td>1.9000</td>\n",
       "      <td>2.20000</td>\n",
       "      <td>2.600000</td>\n",
       "      <td>15.50000</td>\n",
       "    </tr>\n",
       "    <tr>\n",
       "      <th>chlorides</th>\n",
       "      <td>1599.0</td>\n",
       "      <td>0.087467</td>\n",
       "      <td>0.047065</td>\n",
       "      <td>0.01200</td>\n",
       "      <td>0.0700</td>\n",
       "      <td>0.07900</td>\n",
       "      <td>0.090000</td>\n",
       "      <td>0.61100</td>\n",
       "    </tr>\n",
       "    <tr>\n",
       "      <th>free sulfur dioxide</th>\n",
       "      <td>1599.0</td>\n",
       "      <td>15.874922</td>\n",
       "      <td>10.460157</td>\n",
       "      <td>1.00000</td>\n",
       "      <td>7.0000</td>\n",
       "      <td>14.00000</td>\n",
       "      <td>21.000000</td>\n",
       "      <td>72.00000</td>\n",
       "    </tr>\n",
       "    <tr>\n",
       "      <th>total sulfur dioxide</th>\n",
       "      <td>1599.0</td>\n",
       "      <td>46.467792</td>\n",
       "      <td>32.895324</td>\n",
       "      <td>6.00000</td>\n",
       "      <td>22.0000</td>\n",
       "      <td>38.00000</td>\n",
       "      <td>62.000000</td>\n",
       "      <td>289.00000</td>\n",
       "    </tr>\n",
       "    <tr>\n",
       "      <th>density</th>\n",
       "      <td>1599.0</td>\n",
       "      <td>0.996747</td>\n",
       "      <td>0.001887</td>\n",
       "      <td>0.99007</td>\n",
       "      <td>0.9956</td>\n",
       "      <td>0.99675</td>\n",
       "      <td>0.997835</td>\n",
       "      <td>1.00369</td>\n",
       "    </tr>\n",
       "    <tr>\n",
       "      <th>pH</th>\n",
       "      <td>1599.0</td>\n",
       "      <td>3.311113</td>\n",
       "      <td>0.154386</td>\n",
       "      <td>2.74000</td>\n",
       "      <td>3.2100</td>\n",
       "      <td>3.31000</td>\n",
       "      <td>3.400000</td>\n",
       "      <td>4.01000</td>\n",
       "    </tr>\n",
       "    <tr>\n",
       "      <th>sulphates</th>\n",
       "      <td>1599.0</td>\n",
       "      <td>0.658149</td>\n",
       "      <td>0.169507</td>\n",
       "      <td>0.33000</td>\n",
       "      <td>0.5500</td>\n",
       "      <td>0.62000</td>\n",
       "      <td>0.730000</td>\n",
       "      <td>2.00000</td>\n",
       "    </tr>\n",
       "    <tr>\n",
       "      <th>alcohol</th>\n",
       "      <td>1599.0</td>\n",
       "      <td>10.422983</td>\n",
       "      <td>1.065668</td>\n",
       "      <td>8.40000</td>\n",
       "      <td>9.5000</td>\n",
       "      <td>10.20000</td>\n",
       "      <td>11.100000</td>\n",
       "      <td>14.90000</td>\n",
       "    </tr>\n",
       "    <tr>\n",
       "      <th>quality</th>\n",
       "      <td>1599.0</td>\n",
       "      <td>5.636023</td>\n",
       "      <td>0.807569</td>\n",
       "      <td>3.00000</td>\n",
       "      <td>5.0000</td>\n",
       "      <td>6.00000</td>\n",
       "      <td>6.000000</td>\n",
       "      <td>8.00000</td>\n",
       "    </tr>\n",
       "  </tbody>\n",
       "</table>\n",
       "</div>"
      ],
      "text/plain": [
       "                       count       mean        std      min      25%  \\\n",
       "fixed acidity         1599.0   8.319637   1.741096  4.60000   7.1000   \n",
       "volatile acidity      1599.0   0.527821   0.179060  0.12000   0.3900   \n",
       "citric acid           1599.0   0.270976   0.194801  0.00000   0.0900   \n",
       "residual sugar        1599.0   2.538806   1.409928  0.90000   1.9000   \n",
       "chlorides             1599.0   0.087467   0.047065  0.01200   0.0700   \n",
       "free sulfur dioxide   1599.0  15.874922  10.460157  1.00000   7.0000   \n",
       "total sulfur dioxide  1599.0  46.467792  32.895324  6.00000  22.0000   \n",
       "density               1599.0   0.996747   0.001887  0.99007   0.9956   \n",
       "pH                    1599.0   3.311113   0.154386  2.74000   3.2100   \n",
       "sulphates             1599.0   0.658149   0.169507  0.33000   0.5500   \n",
       "alcohol               1599.0  10.422983   1.065668  8.40000   9.5000   \n",
       "quality               1599.0   5.636023   0.807569  3.00000   5.0000   \n",
       "\n",
       "                           50%        75%        max  \n",
       "fixed acidity          7.90000   9.200000   15.90000  \n",
       "volatile acidity       0.52000   0.640000    1.58000  \n",
       "citric acid            0.26000   0.420000    1.00000  \n",
       "residual sugar         2.20000   2.600000   15.50000  \n",
       "chlorides              0.07900   0.090000    0.61100  \n",
       "free sulfur dioxide   14.00000  21.000000   72.00000  \n",
       "total sulfur dioxide  38.00000  62.000000  289.00000  \n",
       "density                0.99675   0.997835    1.00369  \n",
       "pH                     3.31000   3.400000    4.01000  \n",
       "sulphates              0.62000   0.730000    2.00000  \n",
       "alcohol               10.20000  11.100000   14.90000  \n",
       "quality                6.00000   6.000000    8.00000  "
      ]
     },
     "execution_count": 6,
     "metadata": {},
     "output_type": "execute_result"
    }
   ],
   "source": [
    "df.describe().T"
   ]
  },
  {
   "cell_type": "code",
   "execution_count": 7,
   "id": "alleged-skill",
   "metadata": {
    "execution": {
     "iopub.execute_input": "2023-11-16T15:01:22.624729Z",
     "iopub.status.busy": "2023-11-16T15:01:22.623900Z",
     "iopub.status.idle": "2023-11-16T15:01:22.639532Z",
     "shell.execute_reply": "2023-11-16T15:01:22.638915Z",
     "shell.execute_reply.started": "2023-11-16T14:51:50.148011Z"
    },
    "papermill": {
     "duration": 0.042665,
     "end_time": "2023-11-16T15:01:22.639695",
     "exception": false,
     "start_time": "2023-11-16T15:01:22.597030",
     "status": "completed"
    },
    "tags": []
   },
   "outputs": [
    {
     "data": {
      "text/plain": [
       "fixed acidity            96\n",
       "volatile acidity        143\n",
       "citric acid              80\n",
       "residual sugar           91\n",
       "chlorides               153\n",
       "free sulfur dioxide      60\n",
       "total sulfur dioxide    144\n",
       "density                 436\n",
       "pH                       89\n",
       "sulphates                96\n",
       "alcohol                  65\n",
       "quality                   6\n",
       "dtype: int64"
      ]
     },
     "execution_count": 7,
     "metadata": {},
     "output_type": "execute_result"
    }
   ],
   "source": [
    "df.nunique()"
   ]
  },
  {
   "cell_type": "code",
   "execution_count": 8,
   "id": "connected-trade",
   "metadata": {
    "execution": {
     "iopub.execute_input": "2023-11-16T15:01:22.696502Z",
     "iopub.status.busy": "2023-11-16T15:01:22.695710Z",
     "iopub.status.idle": "2023-11-16T15:01:22.704958Z",
     "shell.execute_reply": "2023-11-16T15:01:22.704217Z",
     "shell.execute_reply.started": "2023-11-16T14:51:50.165546Z"
    },
    "papermill": {
     "duration": 0.040624,
     "end_time": "2023-11-16T15:01:22.705151",
     "exception": false,
     "start_time": "2023-11-16T15:01:22.664527",
     "status": "completed"
    },
    "tags": []
   },
   "outputs": [
    {
     "data": {
      "text/plain": [
       "240"
      ]
     },
     "execution_count": 8,
     "metadata": {},
     "output_type": "execute_result"
    }
   ],
   "source": [
    "df.duplicated().sum()"
   ]
  },
  {
   "cell_type": "code",
   "execution_count": 9,
   "id": "amino-eagle",
   "metadata": {
    "execution": {
     "iopub.execute_input": "2023-11-16T15:01:22.766987Z",
     "iopub.status.busy": "2023-11-16T15:01:22.766031Z",
     "iopub.status.idle": "2023-11-16T15:01:23.017341Z",
     "shell.execute_reply": "2023-11-16T15:01:23.017915Z",
     "shell.execute_reply.started": "2023-11-16T14:51:50.179737Z"
    },
    "papermill": {
     "duration": 0.287621,
     "end_time": "2023-11-16T15:01:23.018151",
     "exception": false,
     "start_time": "2023-11-16T15:01:22.730530",
     "status": "completed"
    },
    "tags": []
   },
   "outputs": [
    {
     "name": "stdout",
     "output_type": "stream",
     "text": [
      "5    681\n",
      "6    638\n",
      "7    199\n",
      "4     53\n",
      "8     18\n",
      "3     10\n",
      "Name: quality, dtype: int64\n"
     ]
    },
    {
     "data": {
      "text/plain": [
       "<AxesSubplot:xlabel='quality', ylabel='count'>"
      ]
     },
     "execution_count": 9,
     "metadata": {},
     "output_type": "execute_result"
    },
    {
     "data": {
      "image/png": "[encoded data removed]",
      "text/plain": [
       "<Figure size 720x432 with 1 Axes>"
      ]
     },
     "metadata": {},
     "output_type": "display_data"
    }
   ],
   "source": [
    "sns.set(style=\"whitegrid\")\n",
    "print(df['quality'].value_counts())\n",
    "fig = plt.figure(figsize = (10,6))\n",
    "sns.countplot('quality', data=df, palette='pastel')"
   ]
  },
  {
   "cell_type": "code",
   "execution_count": 10,
   "id": "heated-crash",
   "metadata": {
    "execution": {
     "iopub.execute_input": "2023-11-16T15:01:23.078269Z",
     "iopub.status.busy": "2023-11-16T15:01:23.077514Z",
     "iopub.status.idle": "2023-11-16T15:01:23.085599Z",
     "shell.execute_reply": "2023-11-16T15:01:23.084961Z",
     "shell.execute_reply.started": "2023-11-16T14:51:50.420724Z"
    },
    "papermill": {
     "duration": 0.040233,
     "end_time": "2023-11-16T15:01:23.085754",
     "exception": false,
     "start_time": "2023-11-16T15:01:23.045521",
     "status": "completed"
    },
    "tags": []
   },
   "outputs": [
    {
     "data": {
      "text/plain": [
       "quality                 1.000000\n",
       "alcohol                 0.476166\n",
       "sulphates               0.251397\n",
       "citric acid             0.226373\n",
       "fixed acidity           0.124052\n",
       "residual sugar          0.013732\n",
       "free sulfur dioxide    -0.050656\n",
       "pH                     -0.057731\n",
       "chlorides              -0.128907\n",
       "density                -0.174919\n",
       "total sulfur dioxide   -0.185100\n",
       "volatile acidity       -0.390558\n",
       "Name: quality, dtype: float64"
      ]
     },
     "execution_count": 10,
     "metadata": {},
     "output_type": "execute_result"
    }
   ],
   "source": [
    "df.corr()['quality'].sort_values(ascending=False)"
   ]
  },
  {
   "cell_type": "code",
   "execution_count": 11,
   "id": "overall-excerpt",
   "metadata": {
    "execution": {
     "iopub.execute_input": "2023-11-16T15:01:23.148910Z",
     "iopub.status.busy": "2023-11-16T15:01:23.147797Z",
     "iopub.status.idle": "2023-11-16T15:01:23.600368Z",
     "shell.execute_reply": "2023-11-16T15:01:23.599593Z",
     "shell.execute_reply.started": "2023-11-16T14:51:50.438273Z"
    },
    "papermill": {
     "duration": 0.487727,
     "end_time": "2023-11-16T15:01:23.600538",
     "exception": false,
     "start_time": "2023-11-16T15:01:23.112811",
     "status": "completed"
    },
    "tags": []
   },
   "outputs": [
    {
     "data": {
      "text/plain": [
       "<AxesSubplot:xlabel='quality', ylabel='alcohol'>"
      ]
     },
     "execution_count": 11,
     "metadata": {},
     "output_type": "execute_result"
    },
    {
     "data": {
      "image/png": "[encoded data removed]",
      "text/plain": [
       "<Figure size 864x432 with 1 Axes>"
      ]
     },
     "metadata": {},
     "output_type": "display_data"
    }
   ],
   "source": [
    "plt.figure(figsize = (12,6))\n",
    "sns.barplot(x='quality', y = 'alcohol', data = df, palette = 'coolwarm')"
   ]
  },
  {
   "cell_type": "code",
   "execution_count": 12,
   "id": "drawn-jersey",
   "metadata": {
    "execution": {
     "iopub.execute_input": "2023-11-16T15:01:23.664416Z",
     "iopub.status.busy": "2023-11-16T15:01:23.663656Z",
     "iopub.status.idle": "2023-11-16T15:01:23.667085Z",
     "shell.execute_reply": "2023-11-16T15:01:23.666361Z",
     "shell.execute_reply.started": "2023-11-16T14:51:50.901642Z"
    },
    "papermill": {
     "duration": 0.03692,
     "end_time": "2023-11-16T15:01:23.667256",
     "exception": false,
     "start_time": "2023-11-16T15:01:23.630336",
     "status": "completed"
    },
    "tags": []
   },
   "outputs": [],
   "source": [
    "selected_features = ['fixed acidity', 'volatile acidity', 'citric acid', 'chlorides',\n",
    "                     'free sulfur dioxide', 'total sulfur dioxide', 'density', 'pH',\n",
    "                     'sulphates', 'alcohol']"
   ]
  },
  {
   "cell_type": "code",
   "execution_count": 13,
   "id": "industrial-capacity",
   "metadata": {
    "execution": {
     "iopub.execute_input": "2023-11-16T15:01:23.733815Z",
     "iopub.status.busy": "2023-11-16T15:01:23.732987Z",
     "iopub.status.idle": "2023-11-16T15:01:23.736118Z",
     "shell.execute_reply": "2023-11-16T15:01:23.735535Z",
     "shell.execute_reply.started": "2023-11-16T14:51:50.909223Z"
    },
    "papermill": {
     "duration": 0.040286,
     "end_time": "2023-11-16T15:01:23.736282",
     "exception": false,
     "start_time": "2023-11-16T15:01:23.695996",
     "status": "completed"
    },
    "tags": []
   },
   "outputs": [],
   "source": [
    "X = Balanced_df[selected_features]\n",
    "y = Balanced_df.quality"
   ]
  },
  {
   "cell_type": "code",
   "execution_count": 14,
   "id": "interior-motor",
   "metadata": {
    "execution": {
     "iopub.execute_input": "2023-11-16T15:01:23.799005Z",
     "iopub.status.busy": "2023-11-16T15:01:23.798298Z",
     "iopub.status.idle": "2023-11-16T15:01:23.979650Z",
     "shell.execute_reply": "2023-11-16T15:01:23.978972Z",
     "shell.execute_reply.started": "2023-11-16T14:51:50.924916Z"
    },
    "papermill": {
     "duration": 0.214928,
     "end_time": "2023-11-16T15:01:23.979799",
     "exception": false,
     "start_time": "2023-11-16T15:01:23.764871",
     "status": "completed"
    },
    "tags": []
   },
   "outputs": [],
   "source": [
    "from sklearn.model_selection import train_test_split\n",
    "\n",
    "# Splitting the data into 70% and 30% to construct Training and Testing Data respectively.\n",
    "X_train,X_test,y_train,y_test = train_test_split(X, y, test_size=0.3,random_state=13)"
   ]
  },
  {
   "cell_type": "code",
   "execution_count": 15,
   "id": "visible-louis",
   "metadata": {
    "execution": {
     "iopub.execute_input": "2023-11-16T15:01:24.044309Z",
     "iopub.status.busy": "2023-11-16T15:01:24.043486Z",
     "iopub.status.idle": "2023-11-16T15:01:24.330402Z",
     "shell.execute_reply": "2023-11-16T15:01:24.329760Z",
     "shell.execute_reply.started": "2023-11-16T14:51:50.938109Z"
    },
    "papermill": {
     "duration": 0.321737,
     "end_time": "2023-11-16T15:01:24.330582",
     "exception": false,
     "start_time": "2023-11-16T15:01:24.008845",
     "status": "completed"
    },
    "tags": []
   },
   "outputs": [
    {
     "name": "stdout",
     "output_type": "stream",
     "text": [
      "For n_neighbors =  5  score is  0.55\n",
      "For n_neighbors =  10  score is  0.5395833333333333\n",
      "For n_neighbors =  15  score is  0.525\n",
      "For n_neighbors =  20  score is  0.5333333333333333\n"
     ]
    }
   ],
   "source": [
    "from sklearn.neighbors import KNeighborsClassifier  \n",
    "# For weights = 'uniform'\n",
    "for n_neighbors in [5,10,15,20]:\n",
    "    model = KNeighborsClassifier(n_neighbors)\n",
    "    model.fit(X_train, y_train) \n",
    "    scr = model.score(X_test, y_test)\n",
    "    print(\"For n_neighbors = \", n_neighbors  ,\" score is \",scr)"
   ]
  },
  {
   "cell_type": "code",
   "execution_count": 16,
   "id": "fatal-voltage",
   "metadata": {
    "execution": {
     "iopub.execute_input": "2023-11-16T15:01:24.401863Z",
     "iopub.status.busy": "2023-11-16T15:01:24.400855Z",
     "iopub.status.idle": "2023-11-16T15:01:24.444602Z",
     "shell.execute_reply": "2023-11-16T15:01:24.443595Z",
     "shell.execute_reply.started": "2023-11-16T14:51:51.075597Z"
    },
    "papermill": {
     "duration": 0.085137,
     "end_time": "2023-11-16T15:01:24.444770",
     "exception": false,
     "start_time": "2023-11-16T15:01:24.359633",
     "status": "completed"
    },
    "tags": []
   },
   "outputs": [
    {
     "name": "stdout",
     "output_type": "stream",
     "text": [
      "For n_neighbors =  5  score is  0.6\n",
      "For n_neighbors =  10  score is  0.6270833333333333\n",
      "For n_neighbors =  15  score is  0.625\n",
      "For n_neighbors =  20  score is  0.6166666666666667\n"
     ]
    }
   ],
   "source": [
    "# For weights = 'distance'\n",
    "for n_neighbors in [5,10,15,20]:\n",
    "    model = KNeighborsClassifier(n_neighbors, weights='distance')\n",
    "    model.fit(X_train, y_train) \n",
    "    scr = model.score(X_test, y_test)\n",
    "    print(\"For n_neighbors = \", n_neighbors  ,\" score is \",scr)"
   ]
  },
  {
   "cell_type": "code",
   "execution_count": 17,
   "id": "greatest-student",
   "metadata": {
    "execution": {
     "iopub.execute_input": "2023-11-16T15:01:24.515524Z",
     "iopub.status.busy": "2023-11-16T15:01:24.511830Z",
     "iopub.status.idle": "2023-11-16T15:01:24.520179Z",
     "shell.execute_reply": "2023-11-16T15:01:24.520757Z",
     "shell.execute_reply.started": "2023-11-16T14:51:51.130607Z"
    },
    "papermill": {
     "duration": 0.046445,
     "end_time": "2023-11-16T15:01:24.520962",
     "exception": false,
     "start_time": "2023-11-16T15:01:24.474517",
     "status": "completed"
    },
    "tags": []
   },
   "outputs": [],
   "source": [
    "# Creating a k-nearest neighbors Classifier\n",
    "KNN_Model = KNeighborsClassifier(n_neighbors=5, weights='distance')\n",
    "\n",
    "# Train the model using the training set\n",
    "KNN_Model.fit(X_train, y_train) \n",
    "results = KNN_Model.fit(X_train, y_train)"
   ]
  },
  {
   "cell_type": "code",
   "execution_count": 18,
   "id": "following-personality",
   "metadata": {
    "execution": {
     "iopub.execute_input": "2023-11-16T15:01:24.589344Z",
     "iopub.status.busy": "2023-11-16T15:01:24.588553Z",
     "iopub.status.idle": "2023-11-16T15:01:24.597708Z",
     "shell.execute_reply": "2023-11-16T15:01:24.598251Z",
     "shell.execute_reply.started": "2023-11-16T14:51:51.146975Z"
    },
    "papermill": {
     "duration": 0.047745,
     "end_time": "2023-11-16T15:01:24.598456",
     "exception": false,
     "start_time": "2023-11-16T15:01:24.550711",
     "status": "completed"
    },
    "tags": []
   },
   "outputs": [],
   "source": [
    "KNN_train_predictions = KNN_Model.predict(X_train)"
   ]
  },
  {
   "cell_type": "code",
   "execution_count": 19,
   "id": "automated-twelve",
   "metadata": {
    "execution": {
     "iopub.execute_input": "2023-11-16T15:01:24.667471Z",
     "iopub.status.busy": "2023-11-16T15:01:24.666692Z",
     "iopub.status.idle": "2023-11-16T15:01:24.673445Z",
     "shell.execute_reply": "2023-11-16T15:01:24.672687Z",
     "shell.execute_reply.started": "2023-11-16T14:51:51.166041Z"
    },
    "papermill": {
     "duration": 0.043808,
     "end_time": "2023-11-16T15:01:24.673633",
     "exception": false,
     "start_time": "2023-11-16T15:01:24.629825",
     "status": "completed"
    },
    "tags": []
   },
   "outputs": [],
   "source": [
    "KNN_test_predictions = KNN_Model.predict(X_test)"
   ]
  },
  {
   "cell_type": "code",
   "execution_count": 20,
   "id": "upper-anderson",
   "metadata": {
    "execution": {
     "iopub.execute_input": "2023-11-16T15:01:24.744657Z",
     "iopub.status.busy": "2023-11-16T15:01:24.743657Z",
     "iopub.status.idle": "2023-11-16T15:01:24.770309Z",
     "shell.execute_reply": "2023-11-16T15:01:24.769644Z",
     "shell.execute_reply.started": "2023-11-16T14:51:51.180886Z"
    },
    "papermill": {
     "duration": 0.065882,
     "end_time": "2023-11-16T15:01:24.770468",
     "exception": false,
     "start_time": "2023-11-16T15:01:24.704586",
     "status": "completed"
    },
    "tags": []
   },
   "outputs": [
    {
     "name": "stdout",
     "output_type": "stream",
     "text": [
      "\n",
      " Train Data: KNN_Confusion Matrix:\n",
      " \n",
      "[[  8   0   0   0   0   0]\n",
      " [  0  40   0   0   0   0]\n",
      " [  0   0 470   0   0   0]\n",
      " [  0   0   0 450   0   0]\n",
      " [  0   0   0   0 140   0]\n",
      " [  0   0   0   0   0  11]]\n",
      "\n",
      " Train Data: KNN_Classification Report:\n",
      " \n",
      "              precision    recall  f1-score   support\n",
      "\n",
      "           3       1.00      1.00      1.00         8\n",
      "           4       1.00      1.00      1.00        40\n",
      "           5       1.00      1.00      1.00       470\n",
      "           6       1.00      1.00      1.00       450\n",
      "           7       1.00      1.00      1.00       140\n",
      "           8       1.00      1.00      1.00        11\n",
      "\n",
      "    accuracy                           1.00      1119\n",
      "   macro avg       1.00      1.00      1.00      1119\n",
      "weighted avg       1.00      1.00      1.00      1119\n",
      "\n",
      "\n",
      " \n",
      " Test Data: KNN_Confusion Matrix: \n",
      " \n",
      "[[  0   0   1   0   1   0]\n",
      " [  0   0   8   5   0   0]\n",
      " [  0   1 151  55   3   1]\n",
      " [  0   2  53 110  22   1]\n",
      " [  0   0  11  21  27   0]\n",
      " [  0   0   1   3   3   0]]\n",
      "\n",
      " Test Data: KNN_Classification Report:\n",
      " \n",
      "              precision    recall  f1-score   support\n",
      "\n",
      "           3       0.00      0.00      0.00         2\n",
      "           4       0.00      0.00      0.00        13\n",
      "           5       0.67      0.72      0.69       211\n",
      "           6       0.57      0.59      0.58       188\n",
      "           7       0.48      0.46      0.47        59\n",
      "           8       0.00      0.00      0.00         7\n",
      "\n",
      "    accuracy                           0.60       480\n",
      "   macro avg       0.29      0.29      0.29       480\n",
      "weighted avg       0.58      0.60      0.59       480\n",
      "\n"
     ]
    }
   ],
   "source": [
    "from sklearn.metrics import classification_report, confusion_matrix\n",
    "\n",
    "print(\"\\n Train Data: KNN_Confusion Matrix:\\n \")\n",
    "print(confusion_matrix(y_train, KNN_train_predictions))\n",
    "\n",
    "print(\"\\n Train Data: KNN_Classification Report:\\n \")\n",
    "print(classification_report(y_train, KNN_train_predictions))\n",
    "\n",
    "print(\"\\n \\n Test Data: KNN_Confusion Matrix: \\n \")\n",
    "print(confusion_matrix(y_test, KNN_test_predictions))\n",
    "\n",
    "print(\"\\n Test Data: KNN_Classification Report:\\n \")\n",
    "print(classification_report(y_test, KNN_test_predictions))"
   ]
  }
 ],
 "metadata": {
  "kaggle": {
   "accelerator": "none",
   "dataSources": [
    {
     "datasetId": 4458,
     "sourceId": 8204,
     "sourceType": "datasetVersion"
    },
    {
     "datasetId": 1405578,
     "sourceId": 2328519,
     "sourceType": "datasetVersion"
    }
   ],
   "dockerImageVersionId": 30096,
   "isGpuEnabled": false,
   "isInternetEnabled": false,
   "language": "python",
   "sourceType": "notebook"
  },
  "kernelspec": {
   "display_name": "Python 3",
   "language": "python",
   "name": "python3"
  },
  "language_info": {
   "codemirror_mode": {
    "name": "ipython",
    "version": 3
   },
   "file_extension": ".py",
   "mimetype": "text/x-python",
   "name": "python",
   "nbconvert_exporter": "python",
   "pygments_lexer": "ipython3",
   "version": "3.7.10"
  },
  "papermill": {
   "default_parameters": {},
   "duration": 15.85813,
   "end_time": "2023-11-16T15:01:26.592508",
   "environment_variables": {},
   "exception": null,
   "input_path": "__notebook__.ipynb",
   "output_path": "__notebook__.ipynb",
   "parameters": {},
   "start_time": "2023-11-16T15:01:10.734378",
   "version": "2.3.3"
  }
 },
 "nbformat": 4,
 "nbformat_minor": 5
}
