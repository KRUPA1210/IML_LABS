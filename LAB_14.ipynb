{
 "cells": [
  {
   "cell_type": "code",
   "execution_count": 1,
   "id": "behavioral-chassis",
   "metadata": {
    "execution": {
     "iopub.execute_input": "2023-11-16T14:53:07.358704Z",
     "iopub.status.busy": "2023-11-16T14:53:07.357273Z",
     "iopub.status.idle": "2023-11-16T14:53:09.702712Z",
     "shell.execute_reply": "2023-11-16T14:53:09.701894Z",
     "shell.execute_reply.started": "2023-11-16T14:51:49.972786Z"
    },
    "papermill": {
     "duration": 2.37213,
     "end_time": "2023-11-16T14:53:09.702931",
     "exception": false,
     "start_time": "2023-11-16T14:53:07.330801",
     "status": "completed"
    },
    "tags": []
   },
   "outputs": [],
   "source": [
    "import numpy as np\n",
    "import pandas as pd\n",
    "\n",
    "import seaborn as sns\n",
    "import plotly.express as px\n",
    "import matplotlib.pyplot as plt\n",
    "\n",
    "import warnings\n",
    "warnings.filterwarnings('ignore')\n",
    "\n",
    "file_path = \"your_file_path_here\"\n",
    "Balanced_df = pd.read_csv(\"/kaggle/input/red-wine-quality-cortez-et-al-2009/winequality-red.csv\")\n",
    "%matplotlib inline"
   ]
  },
  {
   "cell_type": "code",
   "execution_count": 2,
   "id": "painful-symphony",
   "metadata": {
    "execution": {
     "iopub.execute_input": "2023-11-16T14:53:09.752391Z",
     "iopub.status.busy": "2023-11-16T14:53:09.751319Z",
     "iopub.status.idle": "2023-11-16T14:53:09.761847Z",
     "shell.execute_reply": "2023-11-16T14:53:09.761075Z",
     "shell.execute_reply.started": "2023-11-16T14:51:49.992836Z"
    },
    "papermill": {
     "duration": 0.037363,
     "end_time": "2023-11-16T14:53:09.762022",
     "exception": false,
     "start_time": "2023-11-16T14:53:09.724659",
     "status": "completed"
    },
    "tags": []
   },
   "outputs": [],
   "source": [
    "df=pd.read_csv(\"/kaggle/input/red-wine-quality-cortez-et-al-2009/winequality-red.csv\")"
   ]
  },
  {
   "cell_type": "code",
   "execution_count": 3,
   "id": "obvious-friend",
   "metadata": {
    "execution": {
     "iopub.execute_input": "2023-11-16T14:53:09.816864Z",
     "iopub.status.busy": "2023-11-16T14:53:09.815871Z",
     "iopub.status.idle": "2023-11-16T14:53:09.846808Z",
     "shell.execute_reply": "2023-11-16T14:53:09.847427Z",
     "shell.execute_reply.started": "2023-11-16T14:51:50.012823Z"
    },
    "papermill": {
     "duration": 0.064125,
     "end_time": "2023-11-16T14:53:09.847668",
     "exception": false,
     "start_time": "2023-11-16T14:53:09.783543",
     "status": "completed"
    },
    "tags": []
   },
   "outputs": [
    {
     "data": {
      "text/html": [
       "<div>\n",
       "<style scoped>\n",
       "    .dataframe tbody tr th:only-of-type {\n",
       "        vertical-align: middle;\n",
       "    }\n",
       "\n",
       "    .dataframe tbody tr th {\n",
       "        vertical-align: top;\n",
       "    }\n",
       "\n",
       "    .dataframe thead th {\n",
       "        text-align: right;\n",
       "    }\n",
       "</style>\n",
       "<table border=\"1\" class=\"dataframe\">\n",
       "  <thead>\n",
       "    <tr style=\"text-align: right;\">\n",
       "      <th></th>\n",
       "      <th>fixed acidity</th>\n",
       "      <th>volatile acidity</th>\n",
       "      <th>citric acid</th>\n",
       "      <th>residual sugar</th>\n",
       "      <th>chlorides</th>\n",
       "      <th>free sulfur dioxide</th>\n",
       "      <th>total sulfur dioxide</th>\n",
       "      <th>density</th>\n",
       "      <th>pH</th>\n",
       "      <th>sulphates</th>\n",
       "      <th>alcohol</th>\n",
       "      <th>quality</th>\n",
       "    </tr>\n",
       "  </thead>\n",
       "  <tbody>\n",
       "    <tr>\n",
       "      <th>0</th>\n",
       "      <td>7.4</td>\n",
       "      <td>0.70</td>\n",
       "      <td>0.00</td>\n",
       "      <td>1.9</td>\n",
       "      <td>0.076</td>\n",
       "      <td>11.0</td>\n",
       "      <td>34.0</td>\n",
       "      <td>0.9978</td>\n",
       "      <td>3.51</td>\n",
       "      <td>0.56</td>\n",
       "      <td>9.4</td>\n",
       "      <td>5</td>\n",
       "    </tr>\n",
       "    <tr>\n",
       "      <th>1</th>\n",
       "      <td>7.8</td>\n",
       "      <td>0.88</td>\n",
       "      <td>0.00</td>\n",
       "      <td>2.6</td>\n",
       "      <td>0.098</td>\n",
       "      <td>25.0</td>\n",
       "      <td>67.0</td>\n",
       "      <td>0.9968</td>\n",
       "      <td>3.20</td>\n",
       "      <td>0.68</td>\n",
       "      <td>9.8</td>\n",
       "      <td>5</td>\n",
       "    </tr>\n",
       "    <tr>\n",
       "      <th>2</th>\n",
       "      <td>7.8</td>\n",
       "      <td>0.76</td>\n",
       "      <td>0.04</td>\n",
       "      <td>2.3</td>\n",
       "      <td>0.092</td>\n",
       "      <td>15.0</td>\n",
       "      <td>54.0</td>\n",
       "      <td>0.9970</td>\n",
       "      <td>3.26</td>\n",
       "      <td>0.65</td>\n",
       "      <td>9.8</td>\n",
       "      <td>5</td>\n",
       "    </tr>\n",
       "    <tr>\n",
       "      <th>3</th>\n",
       "      <td>11.2</td>\n",
       "      <td>0.28</td>\n",
       "      <td>0.56</td>\n",
       "      <td>1.9</td>\n",
       "      <td>0.075</td>\n",
       "      <td>17.0</td>\n",
       "      <td>60.0</td>\n",
       "      <td>0.9980</td>\n",
       "      <td>3.16</td>\n",
       "      <td>0.58</td>\n",
       "      <td>9.8</td>\n",
       "      <td>6</td>\n",
       "    </tr>\n",
       "    <tr>\n",
       "      <th>4</th>\n",
       "      <td>7.4</td>\n",
       "      <td>0.70</td>\n",
       "      <td>0.00</td>\n",
       "      <td>1.9</td>\n",
       "      <td>0.076</td>\n",
       "      <td>11.0</td>\n",
       "      <td>34.0</td>\n",
       "      <td>0.9978</td>\n",
       "      <td>3.51</td>\n",
       "      <td>0.56</td>\n",
       "      <td>9.4</td>\n",
       "      <td>5</td>\n",
       "    </tr>\n",
       "  </tbody>\n",
       "</table>\n",
       "</div>"
      ],
      "text/plain": [
       "   fixed acidity  volatile acidity  citric acid  residual sugar  chlorides  \\\n",
       "0            7.4              0.70         0.00             1.9      0.076   \n",
       "1            7.8              0.88         0.00             2.6      0.098   \n",
       "2            7.8              0.76         0.04             2.3      0.092   \n",
       "3           11.2              0.28         0.56             1.9      0.075   \n",
       "4            7.4              0.70         0.00             1.9      0.076   \n",
       "\n",
       "   free sulfur dioxide  total sulfur dioxide  density    pH  sulphates  \\\n",
       "0                 11.0                  34.0   0.9978  3.51       0.56   \n",
       "1                 25.0                  67.0   0.9968  3.20       0.68   \n",
       "2                 15.0                  54.0   0.9970  3.26       0.65   \n",
       "3                 17.0                  60.0   0.9980  3.16       0.58   \n",
       "4                 11.0                  34.0   0.9978  3.51       0.56   \n",
       "\n",
       "   alcohol  quality  \n",
       "0      9.4        5  \n",
       "1      9.8        5  \n",
       "2      9.8        5  \n",
       "3      9.8        6  \n",
       "4      9.4        5  "
      ]
     },
     "execution_count": 3,
     "metadata": {},
     "output_type": "execute_result"
    }
   ],
   "source": [
    "df.head()"
   ]
  },
  {
   "cell_type": "code",
   "execution_count": 4,
   "id": "headed-newspaper",
   "metadata": {
    "execution": {
     "iopub.execute_input": "2023-11-16T14:53:09.898361Z",
     "iopub.status.busy": "2023-11-16T14:53:09.897533Z",
     "iopub.status.idle": "2023-11-16T14:53:09.901816Z",
     "shell.execute_reply": "2023-11-16T14:53:09.902350Z",
     "shell.execute_reply.started": "2023-11-16T14:51:50.045777Z"
    },
    "papermill": {
     "duration": 0.031883,
     "end_time": "2023-11-16T14:53:09.902564",
     "exception": false,
     "start_time": "2023-11-16T14:53:09.870681",
     "status": "completed"
    },
    "tags": []
   },
   "outputs": [
    {
     "name": "stdout",
     "output_type": "stream",
     "text": [
      "Index(['fixed acidity', 'volatile acidity', 'citric acid', 'residual sugar',\n",
      "       'chlorides', 'free sulfur dioxide', 'total sulfur dioxide', 'density',\n",
      "       'pH', 'sulphates', 'alcohol', 'quality'],\n",
      "      dtype='object')\n",
      "(1599, 12)\n"
     ]
    }
   ],
   "source": [
    "print(df.columns)\n",
    "print(df.shape)"
   ]
  },
  {
   "cell_type": "code",
   "execution_count": 5,
   "id": "collective-former",
   "metadata": {
    "execution": {
     "iopub.execute_input": "2023-11-16T14:53:09.963728Z",
     "iopub.status.busy": "2023-11-16T14:53:09.953748Z",
     "iopub.status.idle": "2023-11-16T14:53:09.977109Z",
     "shell.execute_reply": "2023-11-16T14:53:09.977701Z",
     "shell.execute_reply.started": "2023-11-16T14:51:50.057379Z"
    },
    "papermill": {
     "duration": 0.053125,
     "end_time": "2023-11-16T14:53:09.977944",
     "exception": false,
     "start_time": "2023-11-16T14:53:09.924819",
     "status": "completed"
    },
    "tags": []
   },
   "outputs": [
    {
     "name": "stdout",
     "output_type": "stream",
     "text": [
      "<class 'pandas.core.frame.DataFrame'>\n",
      "RangeIndex: 1599 entries, 0 to 1598\n",
      "Data columns (total 12 columns):\n",
      " #   Column                Non-Null Count  Dtype  \n",
      "---  ------                --------------  -----  \n",
      " 0   fixed acidity         1599 non-null   float64\n",
      " 1   volatile acidity      1599 non-null   float64\n",
      " 2   citric acid           1599 non-null   float64\n",
      " 3   residual sugar        1599 non-null   float64\n",
      " 4   chlorides             1599 non-null   float64\n",
      " 5   free sulfur dioxide   1599 non-null   float64\n",
      " 6   total sulfur dioxide  1599 non-null   float64\n",
      " 7   density               1599 non-null   float64\n",
      " 8   pH                    1599 non-null   float64\n",
      " 9   sulphates             1599 non-null   float64\n",
      " 10  alcohol               1599 non-null   float64\n",
      " 11  quality               1599 non-null   int64  \n",
      "dtypes: float64(11), int64(1)\n",
      "memory usage: 150.0 KB\n"
     ]
    }
   ],
   "source": [
    "df.info()"
   ]
  },
  {
   "cell_type": "code",
   "execution_count": 6,
   "id": "respected-shore",
   "metadata": {
    "execution": {
     "iopub.execute_input": "2023-11-16T14:53:10.032471Z",
     "iopub.status.busy": "2023-11-16T14:53:10.028773Z",
     "iopub.status.idle": "2023-11-16T14:53:10.087032Z",
     "shell.execute_reply": "2023-11-16T14:53:10.086258Z",
     "shell.execute_reply.started": "2023-11-16T14:51:50.080412Z"
    },
    "papermill": {
     "duration": 0.086432,
     "end_time": "2023-11-16T14:53:10.087199",
     "exception": false,
     "start_time": "2023-11-16T14:53:10.000767",
     "status": "completed"
    },
    "tags": []
   },
   "outputs": [
    {
     "data": {
      "text/html": [
       "<div>\n",
       "<style scoped>\n",
       "    .dataframe tbody tr th:only-of-type {\n",
       "        vertical-align: middle;\n",
       "    }\n",
       "\n",
       "    .dataframe tbody tr th {\n",
       "        vertical-align: top;\n",
       "    }\n",
       "\n",
       "    .dataframe thead th {\n",
       "        text-align: right;\n",
       "    }\n",
       "</style>\n",
       "<table border=\"1\" class=\"dataframe\">\n",
       "  <thead>\n",
       "    <tr style=\"text-align: right;\">\n",
       "      <th></th>\n",
       "      <th>count</th>\n",
       "      <th>mean</th>\n",
       "      <th>std</th>\n",
       "      <th>min</th>\n",
       "      <th>25%</th>\n",
       "      <th>50%</th>\n",
       "      <th>75%</th>\n",
       "      <th>max</th>\n",
       "    </tr>\n",
       "  </thead>\n",
       "  <tbody>\n",
       "    <tr>\n",
       "      <th>fixed acidity</th>\n",
       "      <td>1599.0</td>\n",
       "      <td>8.319637</td>\n",
       "      <td>1.741096</td>\n",
       "      <td>4.60000</td>\n",
       "      <td>7.1000</td>\n",
       "      <td>7.90000</td>\n",
       "      <td>9.200000</td>\n",
       "      <td>15.90000</td>\n",
       "    </tr>\n",
       "    <tr>\n",
       "      <th>volatile acidity</th>\n",
       "      <td>1599.0</td>\n",
       "      <td>0.527821</td>\n",
       "      <td>0.179060</td>\n",
       "      <td>0.12000</td>\n",
       "      <td>0.3900</td>\n",
       "      <td>0.52000</td>\n",
       "      <td>0.640000</td>\n",
       "      <td>1.58000</td>\n",
       "    </tr>\n",
       "    <tr>\n",
       "      <th>citric acid</th>\n",
       "      <td>1599.0</td>\n",
       "      <td>0.270976</td>\n",
       "      <td>0.194801</td>\n",
       "      <td>0.00000</td>\n",
       "      <td>0.0900</td>\n",
       "      <td>0.26000</td>\n",
       "      <td>0.420000</td>\n",
       "      <td>1.00000</td>\n",
       "    </tr>\n",
       "    <tr>\n",
       "      <th>residual sugar</th>\n",
       "      <td>1599.0</td>\n",
       "      <td>2.538806</td>\n",
       "      <td>1.409928</td>\n",
       "      <td>0.90000</td>\n",
       "      <td>1.9000</td>\n",
       "      <td>2.20000</td>\n",
       "      <td>2.600000</td>\n",
       "      <td>15.50000</td>\n",
       "    </tr>\n",
       "    <tr>\n",
       "      <th>chlorides</th>\n",
       "      <td>1599.0</td>\n",
       "      <td>0.087467</td>\n",
       "      <td>0.047065</td>\n",
       "      <td>0.01200</td>\n",
       "      <td>0.0700</td>\n",
       "      <td>0.07900</td>\n",
       "      <td>0.090000</td>\n",
       "      <td>0.61100</td>\n",
       "    </tr>\n",
       "    <tr>\n",
       "      <th>free sulfur dioxide</th>\n",
       "      <td>1599.0</td>\n",
       "      <td>15.874922</td>\n",
       "      <td>10.460157</td>\n",
       "      <td>1.00000</td>\n",
       "      <td>7.0000</td>\n",
       "      <td>14.00000</td>\n",
       "      <td>21.000000</td>\n",
       "      <td>72.00000</td>\n",
       "    </tr>\n",
       "    <tr>\n",
       "      <th>total sulfur dioxide</th>\n",
       "      <td>1599.0</td>\n",
       "      <td>46.467792</td>\n",
       "      <td>32.895324</td>\n",
       "      <td>6.00000</td>\n",
       "      <td>22.0000</td>\n",
       "      <td>38.00000</td>\n",
       "      <td>62.000000</td>\n",
       "      <td>289.00000</td>\n",
       "    </tr>\n",
       "    <tr>\n",
       "      <th>density</th>\n",
       "      <td>1599.0</td>\n",
       "      <td>0.996747</td>\n",
       "      <td>0.001887</td>\n",
       "      <td>0.99007</td>\n",
       "      <td>0.9956</td>\n",
       "      <td>0.99675</td>\n",
       "      <td>0.997835</td>\n",
       "      <td>1.00369</td>\n",
       "    </tr>\n",
       "    <tr>\n",
       "      <th>pH</th>\n",
       "      <td>1599.0</td>\n",
       "      <td>3.311113</td>\n",
       "      <td>0.154386</td>\n",
       "      <td>2.74000</td>\n",
       "      <td>3.2100</td>\n",
       "      <td>3.31000</td>\n",
       "      <td>3.400000</td>\n",
       "      <td>4.01000</td>\n",
       "    </tr>\n",
       "    <tr>\n",
       "      <th>sulphates</th>\n",
       "      <td>1599.0</td>\n",
       "      <td>0.658149</td>\n",
       "      <td>0.169507</td>\n",
       "      <td>0.33000</td>\n",
       "      <td>0.5500</td>\n",
       "      <td>0.62000</td>\n",
       "      <td>0.730000</td>\n",
       "      <td>2.00000</td>\n",
       "    </tr>\n",
       "    <tr>\n",
       "      <th>alcohol</th>\n",
       "      <td>1599.0</td>\n",
       "      <td>10.422983</td>\n",
       "      <td>1.065668</td>\n",
       "      <td>8.40000</td>\n",
       "      <td>9.5000</td>\n",
       "      <td>10.20000</td>\n",
       "      <td>11.100000</td>\n",
       "      <td>14.90000</td>\n",
       "    </tr>\n",
       "    <tr>\n",
       "      <th>quality</th>\n",
       "      <td>1599.0</td>\n",
       "      <td>5.636023</td>\n",
       "      <td>0.807569</td>\n",
       "      <td>3.00000</td>\n",
       "      <td>5.0000</td>\n",
       "      <td>6.00000</td>\n",
       "      <td>6.000000</td>\n",
       "      <td>8.00000</td>\n",
       "    </tr>\n",
       "  </tbody>\n",
       "</table>\n",
       "</div>"
      ],
      "text/plain": [
       "                       count       mean        std      min      25%  \\\n",
       "fixed acidity         1599.0   8.319637   1.741096  4.60000   7.1000   \n",
       "volatile acidity      1599.0   0.527821   0.179060  0.12000   0.3900   \n",
       "citric acid           1599.0   0.270976   0.194801  0.00000   0.0900   \n",
       "residual sugar        1599.0   2.538806   1.409928  0.90000   1.9000   \n",
       "chlorides             1599.0   0.087467   0.047065  0.01200   0.0700   \n",
       "free sulfur dioxide   1599.0  15.874922  10.460157  1.00000   7.0000   \n",
       "total sulfur dioxide  1599.0  46.467792  32.895324  6.00000  22.0000   \n",
       "density               1599.0   0.996747   0.001887  0.99007   0.9956   \n",
       "pH                    1599.0   3.311113   0.154386  2.74000   3.2100   \n",
       "sulphates             1599.0   0.658149   0.169507  0.33000   0.5500   \n",
       "alcohol               1599.0  10.422983   1.065668  8.40000   9.5000   \n",
       "quality               1599.0   5.636023   0.807569  3.00000   5.0000   \n",
       "\n",
       "                           50%        75%        max  \n",
       "fixed acidity          7.90000   9.200000   15.90000  \n",
       "volatile acidity       0.52000   0.640000    1.58000  \n",
       "citric acid            0.26000   0.420000    1.00000  \n",
       "residual sugar         2.20000   2.600000   15.50000  \n",
       "chlorides              0.07900   0.090000    0.61100  \n",
       "free sulfur dioxide   14.00000  21.000000   72.00000  \n",
       "total sulfur dioxide  38.00000  62.000000  289.00000  \n",
       "density                0.99675   0.997835    1.00369  \n",
       "pH                     3.31000   3.400000    4.01000  \n",
       "sulphates              0.62000   0.730000    2.00000  \n",
       "alcohol               10.20000  11.100000   14.90000  \n",
       "quality                6.00000   6.000000    8.00000  "
      ]
     },
     "execution_count": 6,
     "metadata": {},
     "output_type": "execute_result"
    }
   ],
   "source": [
    "df.describe().T"
   ]
  },
  {
   "cell_type": "code",
   "execution_count": 7,
   "id": "satellite-walnut",
   "metadata": {
    "execution": {
     "iopub.execute_input": "2023-11-16T14:53:10.139969Z",
     "iopub.status.busy": "2023-11-16T14:53:10.139137Z",
     "iopub.status.idle": "2023-11-16T14:53:10.154458Z",
     "shell.execute_reply": "2023-11-16T14:53:10.153694Z",
     "shell.execute_reply.started": "2023-11-16T14:51:50.148011Z"
    },
    "papermill": {
     "duration": 0.043566,
     "end_time": "2023-11-16T14:53:10.154648",
     "exception": false,
     "start_time": "2023-11-16T14:53:10.111082",
     "status": "completed"
    },
    "tags": []
   },
   "outputs": [
    {
     "data": {
      "text/plain": [
       "fixed acidity            96\n",
       "volatile acidity        143\n",
       "citric acid              80\n",
       "residual sugar           91\n",
       "chlorides               153\n",
       "free sulfur dioxide      60\n",
       "total sulfur dioxide    144\n",
       "density                 436\n",
       "pH                       89\n",
       "sulphates                96\n",
       "alcohol                  65\n",
       "quality                   6\n",
       "dtype: int64"
      ]
     },
     "execution_count": 7,
     "metadata": {},
     "output_type": "execute_result"
    }
   ],
   "source": [
    "df.nunique()"
   ]
  },
  {
   "cell_type": "code",
   "execution_count": 8,
   "id": "chubby-steps",
   "metadata": {
    "execution": {
     "iopub.execute_input": "2023-11-16T14:53:10.210273Z",
     "iopub.status.busy": "2023-11-16T14:53:10.209449Z",
     "iopub.status.idle": "2023-11-16T14:53:10.217521Z",
     "shell.execute_reply": "2023-11-16T14:53:10.216962Z",
     "shell.execute_reply.started": "2023-11-16T14:51:50.165546Z"
    },
    "papermill": {
     "duration": 0.038375,
     "end_time": "2023-11-16T14:53:10.217699",
     "exception": false,
     "start_time": "2023-11-16T14:53:10.179324",
     "status": "completed"
    },
    "tags": []
   },
   "outputs": [
    {
     "data": {
      "text/plain": [
       "240"
      ]
     },
     "execution_count": 8,
     "metadata": {},
     "output_type": "execute_result"
    }
   ],
   "source": [
    "df.duplicated().sum()"
   ]
  },
  {
   "cell_type": "code",
   "execution_count": 9,
   "id": "healthy-camera",
   "metadata": {
    "execution": {
     "iopub.execute_input": "2023-11-16T14:53:10.281350Z",
     "iopub.status.busy": "2023-11-16T14:53:10.280225Z",
     "iopub.status.idle": "2023-11-16T14:53:10.528717Z",
     "shell.execute_reply": "2023-11-16T14:53:10.527772Z",
     "shell.execute_reply.started": "2023-11-16T14:51:50.179737Z"
    },
    "papermill": {
     "duration": 0.286823,
     "end_time": "2023-11-16T14:53:10.528900",
     "exception": false,
     "start_time": "2023-11-16T14:53:10.242077",
     "status": "completed"
    },
    "tags": []
   },
   "outputs": [
    {
     "name": "stdout",
     "output_type": "stream",
     "text": [
      "5    681\n",
      "6    638\n",
      "7    199\n",
      "4     53\n",
      "8     18\n",
      "3     10\n",
      "Name: quality, dtype: int64\n"
     ]
    },
    {
     "data": {
      "text/plain": [
       "<AxesSubplot:xlabel='quality', ylabel='count'>"
      ]
     },
     "execution_count": 9,
     "metadata": {},
     "output_type": "execute_result"
    },
    {
     "data": {
      "image/png": "[encoded data removed]",
      "text/plain": [
       "<Figure size 720x432 with 1 Axes>"
      ]
     },
     "metadata": {},
     "output_type": "display_data"
    }
   ],
   "source": [
    "sns.set(style=\"whitegrid\")\n",
    "print(df['quality'].value_counts())\n",
    "fig = plt.figure(figsize = (10,6))\n",
    "sns.countplot('quality', data=df, palette='pastel')"
   ]
  },
  {
   "cell_type": "code",
   "execution_count": 10,
   "id": "constitutional-business",
   "metadata": {
    "execution": {
     "iopub.execute_input": "2023-11-16T14:53:10.587654Z",
     "iopub.status.busy": "2023-11-16T14:53:10.586880Z",
     "iopub.status.idle": "2023-11-16T14:53:10.595262Z",
     "shell.execute_reply": "2023-11-16T14:53:10.594539Z",
     "shell.execute_reply.started": "2023-11-16T14:51:50.420724Z"
    },
    "papermill": {
     "duration": 0.04009,
     "end_time": "2023-11-16T14:53:10.595429",
     "exception": false,
     "start_time": "2023-11-16T14:53:10.555339",
     "status": "completed"
    },
    "tags": []
   },
   "outputs": [
    {
     "data": {
      "text/plain": [
       "quality                 1.000000\n",
       "alcohol                 0.476166\n",
       "sulphates               0.251397\n",
       "citric acid             0.226373\n",
       "fixed acidity           0.124052\n",
       "residual sugar          0.013732\n",
       "free sulfur dioxide    -0.050656\n",
       "pH                     -0.057731\n",
       "chlorides              -0.128907\n",
       "density                -0.174919\n",
       "total sulfur dioxide   -0.185100\n",
       "volatile acidity       -0.390558\n",
       "Name: quality, dtype: float64"
      ]
     },
     "execution_count": 10,
     "metadata": {},
     "output_type": "execute_result"
    }
   ],
   "source": [
    "df.corr()['quality'].sort_values(ascending=False)"
   ]
  },
  {
   "cell_type": "code",
   "execution_count": 11,
   "id": "organizational-sixth",
   "metadata": {
    "execution": {
     "iopub.execute_input": "2023-11-16T14:53:10.663242Z",
     "iopub.status.busy": "2023-11-16T14:53:10.661686Z",
     "iopub.status.idle": "2023-11-16T14:53:11.106320Z",
     "shell.execute_reply": "2023-11-16T14:53:11.105594Z",
     "shell.execute_reply.started": "2023-11-16T14:51:50.438273Z"
    },
    "papermill": {
     "duration": 0.483803,
     "end_time": "2023-11-16T14:53:11.106481",
     "exception": false,
     "start_time": "2023-11-16T14:53:10.622678",
     "status": "completed"
    },
    "tags": []
   },
   "outputs": [
    {
     "data": {
      "text/plain": [
       "<AxesSubplot:xlabel='quality', ylabel='alcohol'>"
      ]
     },
     "execution_count": 11,
     "metadata": {},
     "output_type": "execute_result"
    },
    {
     "data": {
      "image/png": "[encoded data removed]",
      "text/plain": [
       "<Figure size 864x432 with 1 Axes>"
      ]
     },
     "metadata": {},
     "output_type": "display_data"
    }
   ],
   "source": [
    "plt.figure(figsize = (12,6))\n",
    "sns.barplot(x='quality', y = 'alcohol', data = df, palette = 'coolwarm')"
   ]
  },
  {
   "cell_type": "code",
   "execution_count": 12,
   "id": "controlling-damage",
   "metadata": {
    "execution": {
     "iopub.execute_input": "2023-11-16T14:53:11.170395Z",
     "iopub.status.busy": "2023-11-16T14:53:11.169606Z",
     "iopub.status.idle": "2023-11-16T14:53:11.173535Z",
     "shell.execute_reply": "2023-11-16T14:53:11.172818Z",
     "shell.execute_reply.started": "2023-11-16T14:51:50.901642Z"
    },
    "papermill": {
     "duration": 0.037616,
     "end_time": "2023-11-16T14:53:11.173723",
     "exception": false,
     "start_time": "2023-11-16T14:53:11.136107",
     "status": "completed"
    },
    "tags": []
   },
   "outputs": [],
   "source": [
    "selected_features = ['fixed acidity', 'volatile acidity', 'citric acid', 'chlorides',\n",
    "                     'free sulfur dioxide', 'total sulfur dioxide', 'density', 'pH',\n",
    "                     'sulphates', 'alcohol']"
   ]
  },
  {
   "cell_type": "code",
   "execution_count": 13,
   "id": "baking-daisy",
   "metadata": {
    "execution": {
     "iopub.execute_input": "2023-11-16T14:53:11.233906Z",
     "iopub.status.busy": "2023-11-16T14:53:11.233087Z",
     "iopub.status.idle": "2023-11-16T14:53:11.238507Z",
     "shell.execute_reply": "2023-11-16T14:53:11.239265Z",
     "shell.execute_reply.started": "2023-11-16T14:51:50.909223Z"
    },
    "papermill": {
     "duration": 0.037597,
     "end_time": "2023-11-16T14:53:11.239480",
     "exception": false,
     "start_time": "2023-11-16T14:53:11.201883",
     "status": "completed"
    },
    "tags": []
   },
   "outputs": [],
   "source": [
    "X = Balanced_df[selected_features]\n",
    "y = Balanced_df.quality"
   ]
  },
  {
   "cell_type": "code",
   "execution_count": 14,
   "id": "contained-stamp",
   "metadata": {
    "execution": {
     "iopub.execute_input": "2023-11-16T14:53:11.299120Z",
     "iopub.status.busy": "2023-11-16T14:53:11.298320Z",
     "iopub.status.idle": "2023-11-16T14:53:11.494539Z",
     "shell.execute_reply": "2023-11-16T14:53:11.493846Z",
     "shell.execute_reply.started": "2023-11-16T14:51:50.924916Z"
    },
    "papermill": {
     "duration": 0.227438,
     "end_time": "2023-11-16T14:53:11.494754",
     "exception": false,
     "start_time": "2023-11-16T14:53:11.267316",
     "status": "completed"
    },
    "tags": []
   },
   "outputs": [],
   "source": [
    "from sklearn.model_selection import train_test_split\n",
    "\n",
    "# Splitting the data into 70% and 30% to construct Training and Testing Data respectively.\n",
    "X_train,X_test,y_train,y_test = train_test_split(X, y, test_size=0.3,random_state=13)"
   ]
  },
  {
   "cell_type": "code",
   "execution_count": 15,
   "id": "interracial-interference",
   "metadata": {
    "execution": {
     "iopub.execute_input": "2023-11-16T14:53:11.555017Z",
     "iopub.status.busy": "2023-11-16T14:53:11.554147Z",
     "iopub.status.idle": "2023-11-16T14:53:11.861432Z",
     "shell.execute_reply": "2023-11-16T14:53:11.860632Z",
     "shell.execute_reply.started": "2023-11-16T14:51:50.938109Z"
    },
    "papermill": {
     "duration": 0.338795,
     "end_time": "2023-11-16T14:53:11.861618",
     "exception": false,
     "start_time": "2023-11-16T14:53:11.522823",
     "status": "completed"
    },
    "tags": []
   },
   "outputs": [
    {
     "name": "stdout",
     "output_type": "stream",
     "text": [
      "For n_neighbors =  5  score is  0.55\n",
      "For n_neighbors =  10  score is  0.5395833333333333\n",
      "For n_neighbors =  15  score is  0.525\n",
      "For n_neighbors =  20  score is  0.5333333333333333\n"
     ]
    }
   ],
   "source": [
    "from sklearn.neighbors import KNeighborsClassifier  \n",
    "# For weights = 'uniform'\n",
    "for n_neighbors in [5,10,15,20]:\n",
    "    model = KNeighborsClassifier(n_neighbors)\n",
    "    model.fit(X_train, y_train) \n",
    "    scr = model.score(X_test, y_test)\n",
    "    print(\"For n_neighbors = \", n_neighbors  ,\" score is \",scr)"
   ]
  },
  {
   "cell_type": "code",
   "execution_count": 16,
   "id": "responsible-respondent",
   "metadata": {
    "execution": {
     "iopub.execute_input": "2023-11-16T14:53:11.928303Z",
     "iopub.status.busy": "2023-11-16T14:53:11.927435Z",
     "iopub.status.idle": "2023-11-16T14:53:11.978220Z",
     "shell.execute_reply": "2023-11-16T14:53:11.977405Z",
     "shell.execute_reply.started": "2023-11-16T14:51:51.075597Z"
    },
    "papermill": {
     "duration": 0.087766,
     "end_time": "2023-11-16T14:53:11.978409",
     "exception": false,
     "start_time": "2023-11-16T14:53:11.890643",
     "status": "completed"
    },
    "tags": []
   },
   "outputs": [
    {
     "name": "stdout",
     "output_type": "stream",
     "text": [
      "For n_neighbors =  5  score is  0.6\n",
      "For n_neighbors =  10  score is  0.6270833333333333\n",
      "For n_neighbors =  15  score is  0.625\n",
      "For n_neighbors =  20  score is  0.6166666666666667\n"
     ]
    }
   ],
   "source": [
    "# For weights = 'distance'\n",
    "for n_neighbors in [5,10,15,20]:\n",
    "    model = KNeighborsClassifier(n_neighbors, weights='distance')\n",
    "    model.fit(X_train, y_train) \n",
    "    scr = model.score(X_test, y_test)\n",
    "    print(\"For n_neighbors = \", n_neighbors  ,\" score is \",scr)"
   ]
  },
  {
   "cell_type": "code",
   "execution_count": 17,
   "id": "voluntary-birth",
   "metadata": {
    "execution": {
     "iopub.execute_input": "2023-11-16T14:53:12.050093Z",
     "iopub.status.busy": "2023-11-16T14:53:12.049214Z",
     "iopub.status.idle": "2023-11-16T14:53:12.055387Z",
     "shell.execute_reply": "2023-11-16T14:53:12.054569Z",
     "shell.execute_reply.started": "2023-11-16T14:51:51.130607Z"
    },
    "papermill": {
     "duration": 0.047845,
     "end_time": "2023-11-16T14:53:12.055584",
     "exception": false,
     "start_time": "2023-11-16T14:53:12.007739",
     "status": "completed"
    },
    "tags": []
   },
   "outputs": [],
   "source": [
    "# Creating a k-nearest neighbors Classifier\n",
    "KNN_Model = KNeighborsClassifier(n_neighbors=5, weights='distance')\n",
    "\n",
    "# Train the model using the training set\n",
    "KNN_Model.fit(X_train, y_train) \n",
    "results = KNN_Model.fit(X_train, y_train)"
   ]
  },
  {
   "cell_type": "code",
   "execution_count": 18,
   "id": "sublime-banking",
   "metadata": {
    "execution": {
     "iopub.execute_input": "2023-11-16T14:53:12.124172Z",
     "iopub.status.busy": "2023-11-16T14:53:12.122802Z",
     "iopub.status.idle": "2023-11-16T14:53:12.131811Z",
     "shell.execute_reply": "2023-11-16T14:53:12.132476Z",
     "shell.execute_reply.started": "2023-11-16T14:51:51.146975Z"
    },
    "papermill": {
     "duration": 0.047074,
     "end_time": "2023-11-16T14:53:12.132704",
     "exception": false,
     "start_time": "2023-11-16T14:53:12.085630",
     "status": "completed"
    },
    "tags": []
   },
   "outputs": [],
   "source": [
    "KNN_train_predictions = KNN_Model.predict(X_train)"
   ]
  },
  {
   "cell_type": "code",
   "execution_count": 19,
   "id": "former-jenny",
   "metadata": {
    "execution": {
     "iopub.execute_input": "2023-11-16T14:53:12.195118Z",
     "iopub.status.busy": "2023-11-16T14:53:12.194379Z",
     "iopub.status.idle": "2023-11-16T14:53:12.206126Z",
     "shell.execute_reply": "2023-11-16T14:53:12.206751Z",
     "shell.execute_reply.started": "2023-11-16T14:51:51.166041Z"
    },
    "papermill": {
     "duration": 0.044658,
     "end_time": "2023-11-16T14:53:12.206984",
     "exception": false,
     "start_time": "2023-11-16T14:53:12.162326",
     "status": "completed"
    },
    "tags": []
   },
   "outputs": [],
   "source": [
    "KNN_test_predictions = KNN_Model.predict(X_test)"
   ]
  },
  {
   "cell_type": "code",
   "execution_count": 20,
   "id": "isolated-mailman",
   "metadata": {
    "execution": {
     "iopub.execute_input": "2023-11-16T14:53:12.273624Z",
     "iopub.status.busy": "2023-11-16T14:53:12.272724Z",
     "iopub.status.idle": "2023-11-16T14:53:12.299707Z",
     "shell.execute_reply": "2023-11-16T14:53:12.298890Z",
     "shell.execute_reply.started": "2023-11-16T14:51:51.180886Z"
    },
    "papermill": {
     "duration": 0.063682,
     "end_time": "2023-11-16T14:53:12.299875",
     "exception": false,
     "start_time": "2023-11-16T14:53:12.236193",
     "status": "completed"
    },
    "tags": []
   },
   "outputs": [
    {
     "name": "stdout",
     "output_type": "stream",
     "text": [
      "\n",
      " Train Data: KNN_Confusion Matrix:\n",
      " \n",
      "[[  8   0   0   0   0   0]\n",
      " [  0  40   0   0   0   0]\n",
      " [  0   0 470   0   0   0]\n",
      " [  0   0   0 450   0   0]\n",
      " [  0   0   0   0 140   0]\n",
      " [  0   0   0   0   0  11]]\n",
      "\n",
      " Train Data: KNN_Classification Report:\n",
      " \n",
      "              precision    recall  f1-score   support\n",
      "\n",
      "           3       1.00      1.00      1.00         8\n",
      "           4       1.00      1.00      1.00        40\n",
      "           5       1.00      1.00      1.00       470\n",
      "           6       1.00      1.00      1.00       450\n",
      "           7       1.00      1.00      1.00       140\n",
      "           8       1.00      1.00      1.00        11\n",
      "\n",
      "    accuracy                           1.00      1119\n",
      "   macro avg       1.00      1.00      1.00      1119\n",
      "weighted avg       1.00      1.00      1.00      1119\n",
      "\n",
      "\n",
      " \n",
      " Test Data: KNN_Confusion Matrix: \n",
      " \n",
      "[[  0   0   1   0   1   0]\n",
      " [  0   0   8   5   0   0]\n",
      " [  0   1 151  55   3   1]\n",
      " [  0   2  53 110  22   1]\n",
      " [  0   0  11  21  27   0]\n",
      " [  0   0   1   3   3   0]]\n",
      "\n",
      " Test Data: KNN_Classification Report:\n",
      " \n",
      "              precision    recall  f1-score   support\n",
      "\n",
      "           3       0.00      0.00      0.00         2\n",
      "           4       0.00      0.00      0.00        13\n",
      "           5       0.67      0.72      0.69       211\n",
      "           6       0.57      0.59      0.58       188\n",
      "           7       0.48      0.46      0.47        59\n",
      "           8       0.00      0.00      0.00         7\n",
      "\n",
      "    accuracy                           0.60       480\n",
      "   macro avg       0.29      0.29      0.29       480\n",
      "weighted avg       0.58      0.60      0.59       480\n",
      "\n"
     ]
    }
   ],
   "source": [
    "from sklearn.metrics import classification_report, confusion_matrix\n",
    "\n",
    "print(\"\\n Train Data: KNN_Confusion Matrix:\\n \")\n",
    "print(confusion_matrix(y_train, KNN_train_predictions))\n",
    "\n",
    "print(\"\\n Train Data: KNN_Classification Report:\\n \")\n",
    "print(classification_report(y_train, KNN_train_predictions))\n",
    "\n",
    "print(\"\\n \\n Test Data: KNN_Confusion Matrix: \\n \")\n",
    "print(confusion_matrix(y_test, KNN_test_predictions))\n",
    "\n",
    "print(\"\\n Test Data: KNN_Classification Report:\\n \")\n",
    "print(classification_report(y_test, KNN_test_predictions))"
   ]
  }
 ],
 "metadata": {
  "kaggle": {
   "accelerator": "none",
   "dataSources": [
    {
     "datasetId": 4458,
     "sourceId": 8204,
     "sourceType": "datasetVersion"
    },
    {
     "datasetId": 1405578,
     "sourceId": 2328519,
     "sourceType": "datasetVersion"
    }
   ],
   "dockerImageVersionId": 30096,
   "isGpuEnabled": false,
   "isInternetEnabled": false,
   "language": "python",
   "sourceType": "notebook"
  },
  "kernelspec": {
   "display_name": "Python 3",
   "language": "python",
   "name": "python3"
  },
  "language_info": {
   "codemirror_mode": {
    "name": "ipython",
    "version": 3
   },
   "file_extension": ".py",
   "mimetype": "text/x-python",
   "name": "python",
   "nbconvert_exporter": "python",
   "pygments_lexer": "ipython3",
   "version": "3.7.10"
  },
  "papermill": {
   "default_parameters": {},
   "duration": 15.88942,
   "end_time": "2023-11-16T14:53:13.806772",
   "environment_variables": {},
   "exception": null,
   "input_path": "__notebook__.ipynb",
   "output_path": "__notebook__.ipynb",
   "parameters": {},
   "start_time": "2023-11-16T14:52:57.917352",
   "version": "2.3.3"
  }
 },
 "nbformat": 4,
 "nbformat_minor": 5
}
